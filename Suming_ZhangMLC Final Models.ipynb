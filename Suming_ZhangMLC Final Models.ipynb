{
 "cells": [
  {
   "cell_type": "code",
   "execution_count": 151,
   "id": "cad6f63f",
   "metadata": {
    "ExecuteTime": {
     "end_time": "2022-12-15T23:22:42.636867Z",
     "start_time": "2022-12-15T23:22:41.665778Z"
    }
   },
   "outputs": [],
   "source": [
    "import pandas as pd\n",
    "processed_df = pd.read_csv('processed_df_100000.csv')"
   ]
  },
  {
   "cell_type": "code",
   "execution_count": 152,
   "id": "4b69f23a",
   "metadata": {
    "ExecuteTime": {
     "end_time": "2022-12-15T23:22:43.618120Z",
     "start_time": "2022-12-15T23:22:43.612836Z"
    }
   },
   "outputs": [
    {
     "data": {
      "text/plain": [
       "(100000, 28)"
      ]
     },
     "execution_count": 152,
     "metadata": {},
     "output_type": "execute_result"
    }
   ],
   "source": [
    "processed_df.shape"
   ]
  },
  {
   "cell_type": "code",
   "execution_count": 153,
   "id": "b6a79c8a",
   "metadata": {
    "ExecuteTime": {
     "end_time": "2022-12-15T23:22:44.397506Z",
     "start_time": "2022-12-15T23:22:44.367818Z"
    }
   },
   "outputs": [],
   "source": [
    "import pandas as pd\n",
    "import numpy as np\n",
    "import seaborn as sns\n",
    "import matplotlib.pyplot as plt\n",
    "import dill\n",
    "from os.path import exists\n",
    "from collections import defaultdict\n",
    "%matplotlib inline\n",
    "import math\n",
    "\n",
    "import scipy\n",
    "from scipy.stats import zscore\n",
    "from tqdm import tqdm\n",
    "from sklearn.linear_model import LinearRegression\n",
    "from sklearn.ensemble import ExtraTreesRegressor\n",
    "from sklearn.linear_model import BayesianRidge\n",
    "from sklearn.tree import DecisionTreeRegressor\n",
    "from sklearn.neighbors import KNeighborsRegressor\n",
    "from sklearn.preprocessing import OrdinalEncoder\n",
    "from sklearn import preprocessing\n",
    "from sklearn.metrics import mean_squared_log_error,r2_score,mean_squared_error\n",
    "from sklearn.model_selection import train_test_split\n",
    "\n",
    "from sklearn.model_selection import cross_val_score\n",
    "from sklearn.impute import SimpleImputer\n",
    "from sklearn.pipeline import make_pipeline\n",
    "\n",
    "from sklearn.preprocessing import StandardScaler\n",
    "\n",
    "import warnings\n",
    "warnings.filterwarnings('ignore')"
   ]
  },
  {
   "cell_type": "code",
   "execution_count": 154,
   "id": "4b35c8b2",
   "metadata": {
    "ExecuteTime": {
     "end_time": "2022-12-15T23:22:45.021918Z",
     "start_time": "2022-12-15T23:22:45.016737Z"
    }
   },
   "outputs": [],
   "source": [
    "def get_dist_filename(dist_win, percent, offset):\n",
    "    offset_str = ''\n",
    "    if offset != 0: offset_str = str(offset) + '+'\n",
    "    return 'dist_win_sel_' + str(dist_win) + '_' + offset_str + str(percent) + '.dat'\n",
    "\n",
    "def get_time_filename(time_win, percent, offset):\n",
    "    offset_str = ''\n",
    "    if offset != 0: offset_str = str(offset) + '+'\n",
    "    return 'time_win_sel_' + str(time_win) + '_' + offset_str  + str(percent) + '.dat'\n",
    "\n",
    "def get_col_name(dist_win, time_win):\n",
    "    return 'type_dist_' + str(dist_win) + '_time_' + str(time_win)"
   ]
  },
  {
   "cell_type": "code",
   "execution_count": 155,
   "id": "3c12649c",
   "metadata": {
    "ExecuteTime": {
     "end_time": "2022-12-15T23:22:45.997617Z",
     "start_time": "2022-12-15T23:22:45.667987Z"
    }
   },
   "outputs": [
    {
     "name": "stdout",
     "output_type": "stream",
     "text": [
      "(100000, 28)\n",
      "dist: 800 | time: 60 | col_name: type_dist_800_time_60\n",
      "dist: 800 | time: 30 | col_name: type_dist_800_time_30\n",
      "dist: 800 | time: 20 | col_name: type_dist_800_time_20\n",
      "dist: 800 | time: 10 | col_name: type_dist_800_time_10\n",
      "dist: 400 | time: 60 | col_name: type_dist_400_time_60\n",
      "dist: 400 | time: 30 | col_name: type_dist_400_time_30\n",
      "dist: 400 | time: 20 | col_name: type_dist_400_time_20\n",
      "dist: 400 | time: 10 | col_name: type_dist_400_time_10\n",
      "dist: 200 | time: 60 | col_name: type_dist_200_time_60\n",
      "dist: 200 | time: 30 | col_name: type_dist_200_time_30\n",
      "dist: 200 | time: 20 | col_name: type_dist_200_time_20\n",
      "dist: 200 | time: 10 | col_name: type_dist_200_time_10\n",
      "dist: 100 | time: 60 | col_name: type_dist_100_time_60\n",
      "dist: 100 | time: 30 | col_name: type_dist_100_time_30\n",
      "dist: 100 | time: 20 | col_name: type_dist_100_time_20\n",
      "dist: 100 | time: 10 | col_name: type_dist_100_time_10\n",
      "dist: 50 | time: 60 | col_name: type_dist_50_time_60\n",
      "dist: 50 | time: 30 | col_name: type_dist_50_time_30\n",
      "dist: 50 | time: 20 | col_name: type_dist_50_time_20\n",
      "dist: 50 | time: 10 | col_name: type_dist_50_time_10\n"
     ]
    },
    {
     "data": {
      "text/html": [
       "<div>\n",
       "<style scoped>\n",
       "    .dataframe tbody tr th:only-of-type {\n",
       "        vertical-align: middle;\n",
       "    }\n",
       "\n",
       "    .dataframe tbody tr th {\n",
       "        vertical-align: top;\n",
       "    }\n",
       "\n",
       "    .dataframe thead th {\n",
       "        text-align: right;\n",
       "    }\n",
       "</style>\n",
       "<table border=\"1\" class=\"dataframe\">\n",
       "  <thead>\n",
       "    <tr style=\"text-align: right;\">\n",
       "      <th></th>\n",
       "      <th>Unnamed: 0</th>\n",
       "      <th>TYP_DESC</th>\n",
       "      <th>Latitude</th>\n",
       "      <th>Longitude</th>\n",
       "      <th>dow</th>\n",
       "      <th>hour</th>\n",
       "      <th>minute</th>\n",
       "      <th>second</th>\n",
       "      <th>type_dist_800_time_60</th>\n",
       "      <th>type_dist_800_time_30</th>\n",
       "      <th>...</th>\n",
       "      <th>type_dist_200_time_20</th>\n",
       "      <th>type_dist_200_time_10</th>\n",
       "      <th>type_dist_100_time_60</th>\n",
       "      <th>type_dist_100_time_30</th>\n",
       "      <th>type_dist_100_time_20</th>\n",
       "      <th>type_dist_100_time_10</th>\n",
       "      <th>type_dist_50_time_60</th>\n",
       "      <th>type_dist_50_time_30</th>\n",
       "      <th>type_dist_50_time_20</th>\n",
       "      <th>type_dist_50_time_10</th>\n",
       "    </tr>\n",
       "  </thead>\n",
       "  <tbody>\n",
       "    <tr>\n",
       "      <th>0</th>\n",
       "      <td>0</td>\n",
       "      <td>VISIBILITY PATROL: DIRECTED</td>\n",
       "      <td>40.677802</td>\n",
       "      <td>-73.871348</td>\n",
       "      <td>0</td>\n",
       "      <td>3</td>\n",
       "      <td>29</td>\n",
       "      <td>46</td>\n",
       "      <td>STATION INSPECTION BY TRANSIT BUREAU PERSONNEL</td>\n",
       "      <td>VISIBILITY PATROL: DIRECTED</td>\n",
       "      <td>...</td>\n",
       "      <td>VISIBILITY PATROL: DIRECTED</td>\n",
       "      <td>VISIBILITY PATROL: DIRECTED</td>\n",
       "      <td>ALL OUT DIRECTED</td>\n",
       "      <td>VISIBILITY PATROL: DIRECTED</td>\n",
       "      <td>VISIBILITY PATROL: DIRECTED</td>\n",
       "      <td>VISIBILITY PATROL: DIRECTED</td>\n",
       "      <td>ALL OUT DIRECTED</td>\n",
       "      <td>VISIBILITY PATROL: DIRECTED</td>\n",
       "      <td>VISIBILITY PATROL: DIRECTED</td>\n",
       "      <td>VISIBILITY PATROL: DIRECTED</td>\n",
       "    </tr>\n",
       "    <tr>\n",
       "      <th>1</th>\n",
       "      <td>1</td>\n",
       "      <td>VISIBILITY PATROL: DIRECTED</td>\n",
       "      <td>40.672100</td>\n",
       "      <td>-73.871114</td>\n",
       "      <td>0</td>\n",
       "      <td>15</td>\n",
       "      <td>56</td>\n",
       "      <td>56</td>\n",
       "      <td>ALL OUT DIRECTED</td>\n",
       "      <td>ALL OUT DIRECTED</td>\n",
       "      <td>...</td>\n",
       "      <td>ALL OUT DIRECTED</td>\n",
       "      <td>STATION INSPECTION BY TRANSIT BUREAU PERSONNEL</td>\n",
       "      <td>ALL OUT DIRECTED</td>\n",
       "      <td>ALL OUT DIRECTED</td>\n",
       "      <td>ALL OUT DIRECTED</td>\n",
       "      <td>VISIBILITY PATROL: DIRECTED</td>\n",
       "      <td>ALL OUT DIRECTED</td>\n",
       "      <td>ALL OUT DIRECTED</td>\n",
       "      <td>ALL OUT DIRECTED</td>\n",
       "      <td>VISIBILITY PATROL: DIRECTED</td>\n",
       "    </tr>\n",
       "    <tr>\n",
       "      <th>2</th>\n",
       "      <td>2</td>\n",
       "      <td>VISIBILITY PATROL: DIRECTED</td>\n",
       "      <td>40.672943</td>\n",
       "      <td>-73.870835</td>\n",
       "      <td>0</td>\n",
       "      <td>4</td>\n",
       "      <td>32</td>\n",
       "      <td>35</td>\n",
       "      <td>STATION INSPECTION BY TRANSIT BUREAU PERSONNEL</td>\n",
       "      <td>STATION INSPECTION BY TRANSIT BUREAU PERSONNEL</td>\n",
       "      <td>...</td>\n",
       "      <td>SEE COMPLAINANT: OTHER/INSIDE</td>\n",
       "      <td>SEE COMPLAINANT: OTHER/INSIDE</td>\n",
       "      <td>SEE COMPLAINANT: OTHER/INSIDE</td>\n",
       "      <td>VISIBILITY PATROL: DIRECTED</td>\n",
       "      <td>VISIBILITY PATROL: DIRECTED</td>\n",
       "      <td>VISIBILITY PATROL: DIRECTED</td>\n",
       "      <td>VISIBILITY PATROL: DIRECTED</td>\n",
       "      <td>VISIBILITY PATROL: DIRECTED</td>\n",
       "      <td>VISIBILITY PATROL: DIRECTED</td>\n",
       "      <td>VISIBILITY PATROL: DIRECTED</td>\n",
       "    </tr>\n",
       "    <tr>\n",
       "      <th>3</th>\n",
       "      <td>3</td>\n",
       "      <td>VISIBILITY PATROL: DIRECTED</td>\n",
       "      <td>40.672943</td>\n",
       "      <td>-73.870835</td>\n",
       "      <td>0</td>\n",
       "      <td>15</td>\n",
       "      <td>55</td>\n",
       "      <td>38</td>\n",
       "      <td>TRAIN RUN/MOBILE ORDER MAINTENANCE SWEEP</td>\n",
       "      <td>TRAIN RUN/MOBILE ORDER MAINTENANCE SWEEP</td>\n",
       "      <td>...</td>\n",
       "      <td>VISIBILITY PATROL: DIRECTED</td>\n",
       "      <td>VISIBILITY PATROL: DIRECTED</td>\n",
       "      <td>VISIBILITY PATROL: DIRECTED</td>\n",
       "      <td>VISIBILITY PATROL: DIRECTED</td>\n",
       "      <td>VISIBILITY PATROL: DIRECTED</td>\n",
       "      <td>VISIBILITY PATROL: DIRECTED</td>\n",
       "      <td>VISIBILITY PATROL: DIRECTED</td>\n",
       "      <td>VISIBILITY PATROL: DIRECTED</td>\n",
       "      <td>VISIBILITY PATROL: DIRECTED</td>\n",
       "      <td>VISIBILITY PATROL: DIRECTED</td>\n",
       "    </tr>\n",
       "    <tr>\n",
       "      <th>4</th>\n",
       "      <td>4</td>\n",
       "      <td>VISIBILITY PATROL: DIRECTED</td>\n",
       "      <td>40.669050</td>\n",
       "      <td>-73.870359</td>\n",
       "      <td>0</td>\n",
       "      <td>0</td>\n",
       "      <td>24</td>\n",
       "      <td>36</td>\n",
       "      <td>VISIBILITY PATROL: DIRECTED</td>\n",
       "      <td>VISIBILITY PATROL: DIRECTED</td>\n",
       "      <td>...</td>\n",
       "      <td>ALL OUT DIRECTED</td>\n",
       "      <td>ALL OUT DIRECTED</td>\n",
       "      <td>VISIBILITY PATROL: DIRECTED</td>\n",
       "      <td>VISIBILITY PATROL: DIRECTED</td>\n",
       "      <td>ALL OUT DIRECTED</td>\n",
       "      <td>ALL OUT DIRECTED</td>\n",
       "      <td>VISIBILITY PATROL: DIRECTED</td>\n",
       "      <td>VISIBILITY PATROL: DIRECTED</td>\n",
       "      <td>ALL OUT DIRECTED</td>\n",
       "      <td>ALL OUT DIRECTED</td>\n",
       "    </tr>\n",
       "    <tr>\n",
       "      <th>...</th>\n",
       "      <td>...</td>\n",
       "      <td>...</td>\n",
       "      <td>...</td>\n",
       "      <td>...</td>\n",
       "      <td>...</td>\n",
       "      <td>...</td>\n",
       "      <td>...</td>\n",
       "      <td>...</td>\n",
       "      <td>...</td>\n",
       "      <td>...</td>\n",
       "      <td>...</td>\n",
       "      <td>...</td>\n",
       "      <td>...</td>\n",
       "      <td>...</td>\n",
       "      <td>...</td>\n",
       "      <td>...</td>\n",
       "      <td>...</td>\n",
       "      <td>...</td>\n",
       "      <td>...</td>\n",
       "      <td>...</td>\n",
       "      <td>...</td>\n",
       "    </tr>\n",
       "    <tr>\n",
       "      <th>99995</th>\n",
       "      <td>99995</td>\n",
       "      <td>INVESTIGATE/POSSIBLE CRIME: CALLS FOR HELP/INSIDE</td>\n",
       "      <td>40.674136</td>\n",
       "      <td>-73.922093</td>\n",
       "      <td>1</td>\n",
       "      <td>9</td>\n",
       "      <td>19</td>\n",
       "      <td>39</td>\n",
       "      <td>VISIBILITY PATROL: FAMILY/HOME VISIT</td>\n",
       "      <td>VISIBILITY PATROL: FAMILY/HOME VISIT</td>\n",
       "      <td>...</td>\n",
       "      <td>VISIBILITY PATROL: FAMILY/HOME VISIT</td>\n",
       "      <td>VISIBILITY PATROL: FAMILY/HOME VISIT</td>\n",
       "      <td>VISIBILITY PATROL: FAMILY/HOME VISIT</td>\n",
       "      <td>VISIBILITY PATROL: FAMILY/HOME VISIT</td>\n",
       "      <td>VISIBILITY PATROL: DIRECTED</td>\n",
       "      <td>VISIBILITY PATROL: FAMILY/HOME VISIT</td>\n",
       "      <td>VISIBILITY PATROL: FAMILY/HOME VISIT</td>\n",
       "      <td>VISIBILITY PATROL: FAMILY/HOME VISIT</td>\n",
       "      <td>VISIBILITY PATROL: FAMILY/HOME VISIT</td>\n",
       "      <td>VISIBILITY PATROL: FAMILY/HOME VISIT</td>\n",
       "    </tr>\n",
       "    <tr>\n",
       "      <th>99996</th>\n",
       "      <td>99996</td>\n",
       "      <td>INVESTIGATE/POSSIBLE CRIME: CALLS FOR HELP/INSIDE</td>\n",
       "      <td>40.667179</td>\n",
       "      <td>-73.918860</td>\n",
       "      <td>1</td>\n",
       "      <td>16</td>\n",
       "      <td>10</td>\n",
       "      <td>12</td>\n",
       "      <td>VISIBILITY PATROL: FAMILY/HOME VISIT</td>\n",
       "      <td>VISIBILITY PATROL: FAMILY/HOME VISIT</td>\n",
       "      <td>...</td>\n",
       "      <td>DISPUTE: INSIDE</td>\n",
       "      <td>SEE COMPLAINANT: OTHER/INSIDE</td>\n",
       "      <td>VISIBILITY PATROL: FAMILY/HOME VISIT</td>\n",
       "      <td>VISIBILITY PATROL: FAMILY/HOME VISIT</td>\n",
       "      <td>VISIBILITY PATROL: FAMILY/HOME VISIT</td>\n",
       "      <td>VISIBILITY PATROL: FAMILY/HOME VISIT</td>\n",
       "      <td>VISIBILITY PATROL: FAMILY/HOME VISIT</td>\n",
       "      <td>VISIBILITY PATROL: FAMILY/HOME VISIT</td>\n",
       "      <td>VISIBILITY PATROL: FAMILY/HOME VISIT</td>\n",
       "      <td>VISIBILITY PATROL: FAMILY/HOME VISIT</td>\n",
       "    </tr>\n",
       "    <tr>\n",
       "      <th>99997</th>\n",
       "      <td>99997</td>\n",
       "      <td>INVESTIGATE/POSSIBLE CRIME: CALLS FOR HELP/INSIDE</td>\n",
       "      <td>40.680745</td>\n",
       "      <td>-73.916760</td>\n",
       "      <td>1</td>\n",
       "      <td>2</td>\n",
       "      <td>18</td>\n",
       "      <td>40</td>\n",
       "      <td>VISIBILITY PATROL: FAMILY/HOME VISIT</td>\n",
       "      <td>VISIBILITY PATROL: FAMILY/HOME VISIT</td>\n",
       "      <td>...</td>\n",
       "      <td>VISIBILITY PATROL: FAMILY/HOME VISIT</td>\n",
       "      <td>VISIBILITY PATROL: FAMILY/HOME VISIT</td>\n",
       "      <td>VISIBILITY PATROL: FAMILY/HOME VISIT</td>\n",
       "      <td>VISIBILITY PATROL: FAMILY/HOME VISIT</td>\n",
       "      <td>VISIBILITY PATROL: FAMILY/HOME VISIT</td>\n",
       "      <td>VISIBILITY PATROL: FAMILY/HOME VISIT</td>\n",
       "      <td>VISIBILITY PATROL: FAMILY/HOME VISIT</td>\n",
       "      <td>VISIBILITY PATROL: FAMILY/HOME VISIT</td>\n",
       "      <td>VISIBILITY PATROL: FAMILY/HOME VISIT</td>\n",
       "      <td>VISIBILITY PATROL: DIRECTED</td>\n",
       "    </tr>\n",
       "    <tr>\n",
       "      <th>99998</th>\n",
       "      <td>99998</td>\n",
       "      <td>INVESTIGATE/POSSIBLE CRIME: CALLS FOR HELP/INSIDE</td>\n",
       "      <td>40.659836</td>\n",
       "      <td>-73.911141</td>\n",
       "      <td>1</td>\n",
       "      <td>9</td>\n",
       "      <td>20</td>\n",
       "      <td>14</td>\n",
       "      <td>VISIBILITY PATROL: FAMILY/HOME VISIT</td>\n",
       "      <td>VISIBILITY PATROL: FAMILY/HOME VISIT</td>\n",
       "      <td>...</td>\n",
       "      <td>VISIBILITY PATROL: DIRECTED</td>\n",
       "      <td>VISIBILITY PATROL: DIRECTED</td>\n",
       "      <td>VISIBILITY PATROL: DIRECTED</td>\n",
       "      <td>VISIBILITY PATROL: DIRECTED</td>\n",
       "      <td>VISIBILITY PATROL: DIRECTED</td>\n",
       "      <td>VISIBILITY PATROL: DIRECTED</td>\n",
       "      <td>VISIBILITY PATROL: DIRECTED</td>\n",
       "      <td>VISIBILITY PATROL: DIRECTED</td>\n",
       "      <td>VISIBILITY PATROL: DIRECTED</td>\n",
       "      <td>VISIBILITY PATROL: DIRECTED</td>\n",
       "    </tr>\n",
       "    <tr>\n",
       "      <th>99999</th>\n",
       "      <td>99999</td>\n",
       "      <td>INVESTIGATE/POSSIBLE CRIME: CALLS FOR HELP/INSIDE</td>\n",
       "      <td>40.670494</td>\n",
       "      <td>-73.908074</td>\n",
       "      <td>1</td>\n",
       "      <td>14</td>\n",
       "      <td>56</td>\n",
       "      <td>49</td>\n",
       "      <td>VISIBILITY PATROL: DIRECTED</td>\n",
       "      <td>VISIBILITY PATROL: DIRECTED</td>\n",
       "      <td>...</td>\n",
       "      <td>DISORDERLY: PERSON/OUTSIDE</td>\n",
       "      <td>SEE COMPLAINANT: OTHER/OUTSIDE</td>\n",
       "      <td>BURGLARY (PAST): RESIDENCE</td>\n",
       "      <td>INVESTIGATE/POSSIBLE CRIME: SERIOUS/OTHER</td>\n",
       "      <td>INVESTIGATE/POSSIBLE CRIME: SERIOUS/OTHER</td>\n",
       "      <td>VISIBILITY PATROL: DIRECTED</td>\n",
       "      <td>BURGLARY (PAST): RESIDENCE</td>\n",
       "      <td>INVESTIGATE/POSSIBLE CRIME: SERIOUS/OTHER</td>\n",
       "      <td>INVESTIGATE/POSSIBLE CRIME: SERIOUS/OTHER</td>\n",
       "      <td>VISIBILITY PATROL: DIRECTED</td>\n",
       "    </tr>\n",
       "  </tbody>\n",
       "</table>\n",
       "<p>100000 rows × 28 columns</p>\n",
       "</div>"
      ],
      "text/plain": [
       "       Unnamed: 0                                           TYP_DESC  \\\n",
       "0               0                        VISIBILITY PATROL: DIRECTED   \n",
       "1               1                        VISIBILITY PATROL: DIRECTED   \n",
       "2               2                        VISIBILITY PATROL: DIRECTED   \n",
       "3               3                        VISIBILITY PATROL: DIRECTED   \n",
       "4               4                        VISIBILITY PATROL: DIRECTED   \n",
       "...           ...                                                ...   \n",
       "99995       99995  INVESTIGATE/POSSIBLE CRIME: CALLS FOR HELP/INSIDE   \n",
       "99996       99996  INVESTIGATE/POSSIBLE CRIME: CALLS FOR HELP/INSIDE   \n",
       "99997       99997  INVESTIGATE/POSSIBLE CRIME: CALLS FOR HELP/INSIDE   \n",
       "99998       99998  INVESTIGATE/POSSIBLE CRIME: CALLS FOR HELP/INSIDE   \n",
       "99999       99999  INVESTIGATE/POSSIBLE CRIME: CALLS FOR HELP/INSIDE   \n",
       "\n",
       "        Latitude  Longitude  dow  hour  minute  second  \\\n",
       "0      40.677802 -73.871348    0     3      29      46   \n",
       "1      40.672100 -73.871114    0    15      56      56   \n",
       "2      40.672943 -73.870835    0     4      32      35   \n",
       "3      40.672943 -73.870835    0    15      55      38   \n",
       "4      40.669050 -73.870359    0     0      24      36   \n",
       "...          ...        ...  ...   ...     ...     ...   \n",
       "99995  40.674136 -73.922093    1     9      19      39   \n",
       "99996  40.667179 -73.918860    1    16      10      12   \n",
       "99997  40.680745 -73.916760    1     2      18      40   \n",
       "99998  40.659836 -73.911141    1     9      20      14   \n",
       "99999  40.670494 -73.908074    1    14      56      49   \n",
       "\n",
       "                                type_dist_800_time_60  \\\n",
       "0      STATION INSPECTION BY TRANSIT BUREAU PERSONNEL   \n",
       "1                                    ALL OUT DIRECTED   \n",
       "2      STATION INSPECTION BY TRANSIT BUREAU PERSONNEL   \n",
       "3            TRAIN RUN/MOBILE ORDER MAINTENANCE SWEEP   \n",
       "4                         VISIBILITY PATROL: DIRECTED   \n",
       "...                                               ...   \n",
       "99995            VISIBILITY PATROL: FAMILY/HOME VISIT   \n",
       "99996            VISIBILITY PATROL: FAMILY/HOME VISIT   \n",
       "99997            VISIBILITY PATROL: FAMILY/HOME VISIT   \n",
       "99998            VISIBILITY PATROL: FAMILY/HOME VISIT   \n",
       "99999                     VISIBILITY PATROL: DIRECTED   \n",
       "\n",
       "                                type_dist_800_time_30  ...  \\\n",
       "0                         VISIBILITY PATROL: DIRECTED  ...   \n",
       "1                                    ALL OUT DIRECTED  ...   \n",
       "2      STATION INSPECTION BY TRANSIT BUREAU PERSONNEL  ...   \n",
       "3            TRAIN RUN/MOBILE ORDER MAINTENANCE SWEEP  ...   \n",
       "4                         VISIBILITY PATROL: DIRECTED  ...   \n",
       "...                                               ...  ...   \n",
       "99995            VISIBILITY PATROL: FAMILY/HOME VISIT  ...   \n",
       "99996            VISIBILITY PATROL: FAMILY/HOME VISIT  ...   \n",
       "99997            VISIBILITY PATROL: FAMILY/HOME VISIT  ...   \n",
       "99998            VISIBILITY PATROL: FAMILY/HOME VISIT  ...   \n",
       "99999                     VISIBILITY PATROL: DIRECTED  ...   \n",
       "\n",
       "                      type_dist_200_time_20  \\\n",
       "0               VISIBILITY PATROL: DIRECTED   \n",
       "1                          ALL OUT DIRECTED   \n",
       "2             SEE COMPLAINANT: OTHER/INSIDE   \n",
       "3               VISIBILITY PATROL: DIRECTED   \n",
       "4                          ALL OUT DIRECTED   \n",
       "...                                     ...   \n",
       "99995  VISIBILITY PATROL: FAMILY/HOME VISIT   \n",
       "99996                       DISPUTE: INSIDE   \n",
       "99997  VISIBILITY PATROL: FAMILY/HOME VISIT   \n",
       "99998           VISIBILITY PATROL: DIRECTED   \n",
       "99999            DISORDERLY: PERSON/OUTSIDE   \n",
       "\n",
       "                                type_dist_200_time_10  \\\n",
       "0                         VISIBILITY PATROL: DIRECTED   \n",
       "1      STATION INSPECTION BY TRANSIT BUREAU PERSONNEL   \n",
       "2                       SEE COMPLAINANT: OTHER/INSIDE   \n",
       "3                         VISIBILITY PATROL: DIRECTED   \n",
       "4                                    ALL OUT DIRECTED   \n",
       "...                                               ...   \n",
       "99995            VISIBILITY PATROL: FAMILY/HOME VISIT   \n",
       "99996                   SEE COMPLAINANT: OTHER/INSIDE   \n",
       "99997            VISIBILITY PATROL: FAMILY/HOME VISIT   \n",
       "99998                     VISIBILITY PATROL: DIRECTED   \n",
       "99999                  SEE COMPLAINANT: OTHER/OUTSIDE   \n",
       "\n",
       "                      type_dist_100_time_60  \\\n",
       "0                          ALL OUT DIRECTED   \n",
       "1                          ALL OUT DIRECTED   \n",
       "2             SEE COMPLAINANT: OTHER/INSIDE   \n",
       "3               VISIBILITY PATROL: DIRECTED   \n",
       "4               VISIBILITY PATROL: DIRECTED   \n",
       "...                                     ...   \n",
       "99995  VISIBILITY PATROL: FAMILY/HOME VISIT   \n",
       "99996  VISIBILITY PATROL: FAMILY/HOME VISIT   \n",
       "99997  VISIBILITY PATROL: FAMILY/HOME VISIT   \n",
       "99998           VISIBILITY PATROL: DIRECTED   \n",
       "99999            BURGLARY (PAST): RESIDENCE   \n",
       "\n",
       "                           type_dist_100_time_30  \\\n",
       "0                    VISIBILITY PATROL: DIRECTED   \n",
       "1                               ALL OUT DIRECTED   \n",
       "2                    VISIBILITY PATROL: DIRECTED   \n",
       "3                    VISIBILITY PATROL: DIRECTED   \n",
       "4                    VISIBILITY PATROL: DIRECTED   \n",
       "...                                          ...   \n",
       "99995       VISIBILITY PATROL: FAMILY/HOME VISIT   \n",
       "99996       VISIBILITY PATROL: FAMILY/HOME VISIT   \n",
       "99997       VISIBILITY PATROL: FAMILY/HOME VISIT   \n",
       "99998                VISIBILITY PATROL: DIRECTED   \n",
       "99999  INVESTIGATE/POSSIBLE CRIME: SERIOUS/OTHER   \n",
       "\n",
       "                           type_dist_100_time_20  \\\n",
       "0                    VISIBILITY PATROL: DIRECTED   \n",
       "1                               ALL OUT DIRECTED   \n",
       "2                    VISIBILITY PATROL: DIRECTED   \n",
       "3                    VISIBILITY PATROL: DIRECTED   \n",
       "4                               ALL OUT DIRECTED   \n",
       "...                                          ...   \n",
       "99995                VISIBILITY PATROL: DIRECTED   \n",
       "99996       VISIBILITY PATROL: FAMILY/HOME VISIT   \n",
       "99997       VISIBILITY PATROL: FAMILY/HOME VISIT   \n",
       "99998                VISIBILITY PATROL: DIRECTED   \n",
       "99999  INVESTIGATE/POSSIBLE CRIME: SERIOUS/OTHER   \n",
       "\n",
       "                      type_dist_100_time_10  \\\n",
       "0               VISIBILITY PATROL: DIRECTED   \n",
       "1               VISIBILITY PATROL: DIRECTED   \n",
       "2               VISIBILITY PATROL: DIRECTED   \n",
       "3               VISIBILITY PATROL: DIRECTED   \n",
       "4                          ALL OUT DIRECTED   \n",
       "...                                     ...   \n",
       "99995  VISIBILITY PATROL: FAMILY/HOME VISIT   \n",
       "99996  VISIBILITY PATROL: FAMILY/HOME VISIT   \n",
       "99997  VISIBILITY PATROL: FAMILY/HOME VISIT   \n",
       "99998           VISIBILITY PATROL: DIRECTED   \n",
       "99999           VISIBILITY PATROL: DIRECTED   \n",
       "\n",
       "                       type_dist_50_time_60  \\\n",
       "0                          ALL OUT DIRECTED   \n",
       "1                          ALL OUT DIRECTED   \n",
       "2               VISIBILITY PATROL: DIRECTED   \n",
       "3               VISIBILITY PATROL: DIRECTED   \n",
       "4               VISIBILITY PATROL: DIRECTED   \n",
       "...                                     ...   \n",
       "99995  VISIBILITY PATROL: FAMILY/HOME VISIT   \n",
       "99996  VISIBILITY PATROL: FAMILY/HOME VISIT   \n",
       "99997  VISIBILITY PATROL: FAMILY/HOME VISIT   \n",
       "99998           VISIBILITY PATROL: DIRECTED   \n",
       "99999            BURGLARY (PAST): RESIDENCE   \n",
       "\n",
       "                            type_dist_50_time_30  \\\n",
       "0                    VISIBILITY PATROL: DIRECTED   \n",
       "1                               ALL OUT DIRECTED   \n",
       "2                    VISIBILITY PATROL: DIRECTED   \n",
       "3                    VISIBILITY PATROL: DIRECTED   \n",
       "4                    VISIBILITY PATROL: DIRECTED   \n",
       "...                                          ...   \n",
       "99995       VISIBILITY PATROL: FAMILY/HOME VISIT   \n",
       "99996       VISIBILITY PATROL: FAMILY/HOME VISIT   \n",
       "99997       VISIBILITY PATROL: FAMILY/HOME VISIT   \n",
       "99998                VISIBILITY PATROL: DIRECTED   \n",
       "99999  INVESTIGATE/POSSIBLE CRIME: SERIOUS/OTHER   \n",
       "\n",
       "                            type_dist_50_time_20  \\\n",
       "0                    VISIBILITY PATROL: DIRECTED   \n",
       "1                               ALL OUT DIRECTED   \n",
       "2                    VISIBILITY PATROL: DIRECTED   \n",
       "3                    VISIBILITY PATROL: DIRECTED   \n",
       "4                               ALL OUT DIRECTED   \n",
       "...                                          ...   \n",
       "99995       VISIBILITY PATROL: FAMILY/HOME VISIT   \n",
       "99996       VISIBILITY PATROL: FAMILY/HOME VISIT   \n",
       "99997       VISIBILITY PATROL: FAMILY/HOME VISIT   \n",
       "99998                VISIBILITY PATROL: DIRECTED   \n",
       "99999  INVESTIGATE/POSSIBLE CRIME: SERIOUS/OTHER   \n",
       "\n",
       "                       type_dist_50_time_10  \n",
       "0               VISIBILITY PATROL: DIRECTED  \n",
       "1               VISIBILITY PATROL: DIRECTED  \n",
       "2               VISIBILITY PATROL: DIRECTED  \n",
       "3               VISIBILITY PATROL: DIRECTED  \n",
       "4                          ALL OUT DIRECTED  \n",
       "...                                     ...  \n",
       "99995  VISIBILITY PATROL: FAMILY/HOME VISIT  \n",
       "99996  VISIBILITY PATROL: FAMILY/HOME VISIT  \n",
       "99997           VISIBILITY PATROL: DIRECTED  \n",
       "99998           VISIBILITY PATROL: DIRECTED  \n",
       "99999           VISIBILITY PATROL: DIRECTED  \n",
       "\n",
       "[100000 rows x 28 columns]"
      ]
     },
     "execution_count": 155,
     "metadata": {},
     "output_type": "execute_result"
    }
   ],
   "source": [
    "dist_params = [800, 400, 200, 100, 50]\n",
    "time_params = [60, 30, 20, 10]\n",
    "percent = 0.1\n",
    "force = True\n",
    "row_count = int(100000 * percent) * 10\n",
    "x_cols = ['Latitude','Longitude','dow','hour','minute','second']\n",
    "\n",
    "#processed_df = dill.load(open('processed_df_' + str(row_count) + '.dat', 'rb'))\n",
    "print(processed_df.shape)\n",
    "X = processed_df[[*x_cols]]\n",
    "x_train = None\n",
    "x_test = None\n",
    "Ys_train = dict()\n",
    "Ys_test = dict()\n",
    "for dist_win in dist_params:\n",
    "    for time_win in time_params:\n",
    "        col_name = get_col_name(dist_win, time_win)\n",
    "        print('dist: ' + str(dist_win) + ' | time: ' + str(time_win) + ' | col_name: ' + get_col_name(dist_win, time_win))\n",
    "        assert(col_name in processed_df.columns)\n",
    "        Y = processed_df[col_name]\n",
    "        x_train, x_test, y_train, y_test = train_test_split(X, Y, random_state=2022, train_size=0.8)\n",
    "        Ys_train[(dist_win, time_win)] = y_train\n",
    "        Ys_test[(dist_win, time_win)] = y_test\n",
    "processed_df\n",
    "        "
   ]
  },
  {
   "cell_type": "code",
   "execution_count": 227,
   "id": "b488a342",
   "metadata": {
    "ExecuteTime": {
     "end_time": "2022-12-15T23:42:25.340939Z",
     "start_time": "2022-12-15T23:42:25.241554Z"
    }
   },
   "outputs": [],
   "source": [
    "groupbydata=processed_df.groupby(['TYP_DESC']).count()\n",
    "crime_10=groupbydata['Unnamed: 0'].sort_values(ascending=False).head(10)"
   ]
  },
  {
   "cell_type": "code",
   "execution_count": 233,
   "id": "b9238942",
   "metadata": {
    "ExecuteTime": {
     "end_time": "2022-12-15T23:48:31.627426Z",
     "start_time": "2022-12-15T23:48:31.623577Z"
    }
   },
   "outputs": [
    {
     "data": {
      "text/plain": [
       "TYP_DESC\n",
       "VISIBILITY PATROL: DIRECTED                       26249\n",
       "SEE COMPLAINANT: OTHER/INSIDE                     10500\n",
       "STATION INSPECTION BY TRANSIT BUREAU PERSONNEL     7734\n",
       "TRAIN RUN/MOBILE ORDER MAINTENANCE SWEEP           4926\n",
       "INVESTIGATE/POSSIBLE CRIME: SERIOUS/OTHER          4712\n",
       "TRAIN ORDER MAINTENANCE SWEEP (TOMS)               3997\n",
       "COMMUNITY TIME                                     3922\n",
       "VISIBILITY PATROL: FAMILY/HOME VISIT               3712\n",
       "SEE COMPLAINANT: OTHER/OUTSIDE                     1737\n",
       "VEHICLE ACCIDENT: SPECIAL CONDITION                1428\n",
       "Name: Unnamed: 0, dtype: int64"
      ]
     },
     "execution_count": 233,
     "metadata": {},
     "output_type": "execute_result"
    }
   ],
   "source": [
    "crime_10"
   ]
  },
  {
   "cell_type": "code",
   "execution_count": 228,
   "id": "50632264",
   "metadata": {
    "ExecuteTime": {
     "end_time": "2022-12-15T23:42:29.703569Z",
     "start_time": "2022-12-15T23:42:29.490410Z"
    }
   },
   "outputs": [
    {
     "data": {
      "text/plain": [
       "<BarContainer object of 10 artists>"
      ]
     },
     "execution_count": 228,
     "metadata": {},
     "output_type": "execute_result"
    },
    {
     "data": {
      "image/png": "[encoded data removed]",
      "text/plain": [
       "<Figure size 2880x1080 with 1 Axes>"
      ]
     },
     "metadata": {
      "needs_background": "light"
     },
     "output_type": "display_data"
    }
   ],
   "source": [
    "plt.figure(figsize=(40,15))\n",
    "plt.bar(crime_10.index, crime_10.values, color ='maroon',\n",
    "        width = 0.4)"
   ]
  },
  {
   "cell_type": "code",
   "execution_count": 156,
   "id": "3271d5ab",
   "metadata": {
    "ExecuteTime": {
     "end_time": "2022-12-15T23:22:47.455026Z",
     "start_time": "2022-12-15T23:22:47.452450Z"
    }
   },
   "outputs": [],
   "source": [
    "import math\n",
    "def objFunction(acc,c,dist_win,time_win):\n",
    "    \n",
    "    return acc-c*(math.log(dist_win)+math.log(time_win))"
   ]
  },
  {
   "cell_type": "code",
   "execution_count": 157,
   "id": "1858e865",
   "metadata": {
    "ExecuteTime": {
     "end_time": "2022-12-15T23:22:48.477782Z",
     "start_time": "2022-12-15T23:22:48.475059Z"
    }
   },
   "outputs": [],
   "source": [
    "import math\n",
    "def objFunction_2(acc,c,dist_win,time_win):\n",
    "    \n",
    "    return acc-c*((dist_win)+(time_win))"
   ]
  },
  {
   "cell_type": "code",
   "execution_count": 158,
   "id": "6ebadde8",
   "metadata": {
    "ExecuteTime": {
     "end_time": "2022-12-15T23:22:49.381108Z",
     "start_time": "2022-12-15T23:22:49.378277Z"
    }
   },
   "outputs": [],
   "source": [
    "import math\n",
    "def objFunction_3(acc,c,dist_win,time_win):\n",
    "\n",
    "    return acc-c*((dist_win)**2+10*(time_win)**2)"
   ]
  },
  {
   "cell_type": "code",
   "execution_count": 159,
   "id": "36fa7a72",
   "metadata": {
    "ExecuteTime": {
     "end_time": "2022-12-15T23:22:49.698699Z",
     "start_time": "2022-12-15T23:22:49.696074Z"
    }
   },
   "outputs": [],
   "source": [
    "def objFunction_4(acc,c,dist_win,time_win):\n",
    "    return acc - c * (dist_win ** 2 + (8 * time_win) ** 2)"
   ]
  },
  {
   "cell_type": "code",
   "execution_count": 160,
   "id": "4036406b",
   "metadata": {
    "ExecuteTime": {
     "end_time": "2022-12-15T23:22:50.302699Z",
     "start_time": "2022-12-15T23:22:50.295539Z"
    }
   },
   "outputs": [],
   "source": [
    "from sklearn.naive_bayes import GaussianNB\n",
    "global loss\n",
    "global accur\n",
    "global c\n",
    "c = 0.00000033\n",
    "loss=[]\n",
    "accur=[]\n",
    "lg_accuracy=dict()\n",
    "def naiveB_1 (window, x_train, x_test, y_train, y_test) :\n",
    "    gnb = GaussianNB()\n",
    "    y_pred = gnb.fit(x_train, y_train).predict(x_test)\n",
    "    accur.append((x_test.shape[0]-(y_test != y_pred).sum())/x_test.shape[0])\n",
    "    \n",
    "    lg_accuracy[window] = gnb.score(x_test,y_test)\n",
    "    print(str(window) + \"Number of mislabeled points out of a total %d points : %d\"\n",
    "          % (x_test.shape[0], (y_test != y_pred).sum()))\n",
    "    print(\"Accuracy: \"+ str(accur))\n",
    "    loss.append(objFunction((x_test.shape[0]-(y_test != y_pred).sum())/x_test.shape[0],c,dist_win,time_win))\n",
    "    print('Loss '+ str(objFunction((x_test.shape[0]-(y_test != y_pred).sum())/x_test.shape[0],c,dist_win,time_win)))"
   ]
  },
  {
   "cell_type": "code",
   "execution_count": 161,
   "id": "ff6ff170",
   "metadata": {
    "ExecuteTime": {
     "end_time": "2022-12-15T23:22:50.853924Z",
     "start_time": "2022-12-15T23:22:50.848220Z"
    }
   },
   "outputs": [],
   "source": [
    "global loss\n",
    "global accur\n",
    "global c\n",
    "c = 0.00000033\n",
    "loss=[]\n",
    "accur=[]\n",
    "def naiveB_2 (window, x_train, x_test, y_train, y_test) :\n",
    "    gnb = GaussianNB()\n",
    "    y_pred = gnb.fit(x_train, y_train).predict(x_test)\n",
    "    accur.append((x_test.shape[0]-(y_test != y_pred).sum())/x_test.shape[0])\n",
    "    print(str(window) + \"Number of mislabeled points out of a total %d points : %d\"\n",
    "          % (x_test.shape[0], (y_test != y_pred).sum()))\n",
    "    print(\"Accuracy: \"+ str(accur))\n",
    "    loss.append(objFunction_2((x_test.shape[0]-(y_test != y_pred).sum())/x_test.shape[0],c,dist_win,time_win))\n",
    "    print('Loss '+ str(objFunction_2((x_test.shape[0]-(y_test != y_pred).sum())/x_test.shape[0],c,dist_win,time_win)))"
   ]
  },
  {
   "cell_type": "code",
   "execution_count": 162,
   "id": "f90c7cd9",
   "metadata": {
    "ExecuteTime": {
     "end_time": "2022-12-15T23:22:51.302044Z",
     "start_time": "2022-12-15T23:22:51.296722Z"
    }
   },
   "outputs": [],
   "source": [
    "global loss\n",
    "global accur\n",
    "global c\n",
    "c = 0.00000033\n",
    "loss=[]\n",
    "accur=[]\n",
    "def naiveB_3 (window, x_train, x_test, y_train, y_test) :\n",
    "    gnb = GaussianNB()\n",
    "    y_pred = gnb.fit(x_train, y_train).predict(x_test)\n",
    "    accur.append((x_test.shape[0]-(y_test != y_pred).sum())/x_test.shape[0])\n",
    "    print(str(window) + \"Number of mislabeled points out of a total %d points : %d\"\n",
    "          % (x_test.shape[0], (y_test != y_pred).sum()))\n",
    "    print(\"Accuracy: \"+ str(accur))\n",
    "    loss.append(objFunction_3((x_test.shape[0]-(y_test != y_pred).sum())/x_test.shape[0],c,dist_win,time_win))\n",
    "    print('Loss '+ str(objFunction_3((x_test.shape[0]-(y_test != y_pred).sum())/x_test.shape[0],c,dist_win,time_win)))"
   ]
  },
  {
   "cell_type": "code",
   "execution_count": 328,
   "id": "9c476e0a",
   "metadata": {
    "ExecuteTime": {
     "end_time": "2022-12-16T01:25:49.955556Z",
     "start_time": "2022-12-16T01:25:49.949654Z"
    }
   },
   "outputs": [],
   "source": [
    "global loss\n",
    "global accur\n",
    "global c\n",
    "c = 0.00000033\n",
    "loss=[]\n",
    "accur=[]\n",
    "lg_accuracy=dict()\n",
    "def naiveB_4 (window, x_train, x_test, y_train, y_test) :\n",
    "    gnb = GaussianNB()\n",
    "    y_pred = gnb.fit(x_train, y_train).predict(x_test)\n",
    "    accur.append((x_test.shape[0]-(y_test != y_pred).sum())/x_test.shape[0])\n",
    "    \n",
    "    lg_accuracy[window] = gnb.score(x_test,y_test)\n",
    "    print(str(window) + \"Number of mislabeled points out of a total %d points : %d\"\n",
    "          % (x_test.shape[0], (y_test != y_pred).sum()))\n",
    "    print(\"Accuracy: \"+ str(accur))\n",
    "    loss.append(objFunction_4((x_test.shape[0]-(y_test != y_pred).sum())/x_test.shape[0],c,dist_win,time_win))\n",
    "    print('Loss '+ str(objFunction_4((x_test.shape[0]-(y_test != y_pred).sum())/x_test.shape[0],c,dist_win,time_win)))"
   ]
  },
  {
   "cell_type": "code",
   "execution_count": 335,
   "id": "712a883c",
   "metadata": {
    "ExecuteTime": {
     "end_time": "2022-12-16T01:28:26.842736Z",
     "start_time": "2022-12-16T01:28:26.097491Z"
    }
   },
   "outputs": [
    {
     "name": "stdout",
     "output_type": "stream",
     "text": [
      "0.25855\n"
     ]
    }
   ],
   "source": [
    "#baseline model\n",
    "#x_train_base, x_test_base, y_train_base, y_test_base = train_test_split(X, Y, random_state=2022, train_size=0.8)\n",
    "from sklearn.naive_bayes import GaussianNB\n",
    "gnb = GaussianNB()\n",
    "y_pred_base = gnb.fit(x_train_base, y_train_base).predict(x_test_base)\n",
    "acc_base=(x_test_base.shape[0]-(y_test_base != y_pred_base).sum())/x_test_base.shape[0]\n",
    "print(acc_base)"
   ]
  },
  {
   "cell_type": "code",
   "execution_count": 329,
   "id": "beb2036d",
   "metadata": {
    "ExecuteTime": {
     "end_time": "2022-12-16T01:26:09.150319Z",
     "start_time": "2022-12-16T01:25:53.533531Z"
    },
    "scrolled": true
   },
   "outputs": [
    {
     "name": "stdout",
     "output_type": "stream",
     "text": [
      "(800, 60)Number of mislabeled points out of a total 20000 points : 8939\n",
      "Accuracy: [0.55305]\n",
      "Loss 0.26581800000000005\n",
      "(800, 30)Number of mislabeled points out of a total 20000 points : 10167\n",
      "Accuracy: [0.55305, 0.49165]\n",
      "Loss 0.26144199999999995\n",
      "(800, 20)Number of mislabeled points out of a total 20000 points : 10655\n",
      "Accuracy: [0.55305, 0.49165, 0.46725]\n",
      "Loss 0.247602\n",
      "(800, 10)Number of mislabeled points out of a total 20000 points : 12526\n",
      "Accuracy: [0.55305, 0.49165, 0.46725, 0.3737]\n",
      "Loss 0.16038799999999998\n",
      "(400, 60)Number of mislabeled points out of a total 20000 points : 11791\n",
      "Accuracy: [0.55305, 0.49165, 0.46725, 0.3737, 0.41045]\n",
      "Loss 0.281618\n",
      "(400, 30)Number of mislabeled points out of a total 20000 points : 13225\n",
      "Accuracy: [0.55305, 0.49165, 0.46725, 0.3737, 0.41045, 0.33875]\n",
      "Loss 0.266942\n",
      "(400, 20)Number of mislabeled points out of a total 20000 points : 13821\n",
      "Accuracy: [0.55305, 0.49165, 0.46725, 0.3737, 0.41045, 0.33875, 0.30895]\n",
      "Loss 0.247702\n",
      "(400, 10)Number of mislabeled points out of a total 20000 points : 14923\n",
      "Accuracy: [0.55305, 0.49165, 0.46725, 0.3737, 0.41045, 0.33875, 0.30895, 0.25385]\n",
      "Loss 0.198938\n",
      "(200, 60)Number of mislabeled points out of a total 20000 points : 13963\n",
      "Accuracy: [0.55305, 0.49165, 0.46725, 0.3737, 0.41045, 0.33875, 0.30895, 0.25385, 0.30185]\n",
      "Loss 0.212618\n",
      "(200, 30)Number of mislabeled points out of a total 20000 points : 14785\n",
      "Accuracy: [0.55305, 0.49165, 0.46725, 0.3737, 0.41045, 0.33875, 0.30895, 0.25385, 0.30185, 0.26075]\n",
      "Loss 0.22854199999999997\n",
      "(200, 20)Number of mislabeled points out of a total 20000 points : 14855\n",
      "Accuracy: [0.55305, 0.49165, 0.46725, 0.3737, 0.41045, 0.33875, 0.30895, 0.25385, 0.30185, 0.26075, 0.25725]\n",
      "Loss 0.23560199999999998\n",
      "(200, 10)Number of mislabeled points out of a total 20000 points : 15122\n",
      "Accuracy: [0.55305, 0.49165, 0.46725, 0.3737, 0.41045, 0.33875, 0.30895, 0.25385, 0.30185, 0.26075, 0.25725, 0.2439]\n",
      "Loss 0.228588\n",
      "(100, 60)Number of mislabeled points out of a total 20000 points : 14472\n",
      "Accuracy: [0.55305, 0.49165, 0.46725, 0.3737, 0.41045, 0.33875, 0.30895, 0.25385, 0.30185, 0.26075, 0.25725, 0.2439, 0.2764]\n",
      "Loss 0.19706799999999997\n",
      "(100, 30)Number of mislabeled points out of a total 20000 points : 14719\n",
      "Accuracy: [0.55305, 0.49165, 0.46725, 0.3737, 0.41045, 0.33875, 0.30895, 0.25385, 0.30185, 0.26075, 0.25725, 0.2439, 0.2764, 0.26405]\n",
      "Loss 0.241742\n",
      "(100, 20)Number of mislabeled points out of a total 20000 points : 14812\n",
      "Accuracy: [0.55305, 0.49165, 0.46725, 0.3737, 0.41045, 0.33875, 0.30895, 0.25385, 0.30185, 0.26075, 0.25725, 0.2439, 0.2764, 0.26405, 0.2594]\n",
      "Loss 0.247652\n",
      "(100, 10)Number of mislabeled points out of a total 20000 points : 15083\n",
      "Accuracy: [0.55305, 0.49165, 0.46725, 0.3737, 0.41045, 0.33875, 0.30895, 0.25385, 0.30185, 0.26075, 0.25725, 0.2439, 0.2764, 0.26405, 0.2594, 0.24585]\n",
      "Loss 0.240438\n",
      "(50, 60)Number of mislabeled points out of a total 20000 points : 14500\n",
      "Accuracy: [0.55305, 0.49165, 0.46725, 0.3737, 0.41045, 0.33875, 0.30895, 0.25385, 0.30185, 0.26075, 0.25725, 0.2439, 0.2764, 0.26405, 0.2594, 0.24585, 0.275]\n",
      "Loss 0.198143\n",
      "(50, 30)Number of mislabeled points out of a total 20000 points : 14772\n",
      "Accuracy: [0.55305, 0.49165, 0.46725, 0.3737, 0.41045, 0.33875, 0.30895, 0.25385, 0.30185, 0.26075, 0.25725, 0.2439, 0.2764, 0.26405, 0.2594, 0.24585, 0.275, 0.2614]\n",
      "Loss 0.24156700000000003\n",
      "(50, 20)Number of mislabeled points out of a total 20000 points : 14864\n",
      "Accuracy: [0.55305, 0.49165, 0.46725, 0.3737, 0.41045, 0.33875, 0.30895, 0.25385, 0.30185, 0.26075, 0.25725, 0.2439, 0.2764, 0.26405, 0.2594, 0.24585, 0.275, 0.2614, 0.2568]\n",
      "Loss 0.24752699999999997\n",
      "(50, 10)Number of mislabeled points out of a total 20000 points : 15066\n",
      "Accuracy: [0.55305, 0.49165, 0.46725, 0.3737, 0.41045, 0.33875, 0.30895, 0.25385, 0.30185, 0.26075, 0.25725, 0.2439, 0.2764, 0.26405, 0.2594, 0.24585, 0.275, 0.2614, 0.2568, 0.2467]\n",
      "Loss 0.243763\n"
     ]
    }
   ],
   "source": [
    "from sklearn.model_selection import train_test_split\n",
    "\n",
    "# Baseline, zero window size\n",
    "Y = processed_df['TYP_DESC']\n",
    "x_train_base, x_test_base, y_train_base, y_test_base = train_test_split(X, Y, random_state=2022, train_size=0.8)\n",
    "# Train base models\n",
    "\n",
    "# To access training and testing data for windows, use:\n",
    "# x_train\n",
    "# x_test\n",
    "# Ys_train[(dist_win, time_win)]\n",
    "# Ys_test[(dist_win, time_win)]\n",
    "\n",
    "for dist_win in dist_params:\n",
    "    for time_win in time_params:\n",
    "        window = (dist_win, time_win)\n",
    "        x_train\n",
    "        x_test\n",
    "        y_train = Ys_train[window]\n",
    "        y_test = Ys_test[window]\n",
    "        naiveB_4(window,x_train, x_test, y_train, y_test)\n",
    "        # Train window models"
   ]
  },
  {
   "cell_type": "code",
   "execution_count": 330,
   "id": "354b2a20",
   "metadata": {
    "ExecuteTime": {
     "end_time": "2022-12-16T01:26:11.347997Z",
     "start_time": "2022-12-16T01:26:11.345130Z"
    }
   },
   "outputs": [],
   "source": [
    "norm_acc=[]\n",
    "norm_loss=[]\n",
    "norm_loss = [float(i)/sum(loss) for i in loss]\n",
    "norm_acc=[float(i)/sum(accur) for i in accur]"
   ]
  },
  {
   "cell_type": "code",
   "execution_count": 331,
   "id": "0816742a",
   "metadata": {
    "ExecuteTime": {
     "end_time": "2022-12-16T01:26:12.393808Z",
     "start_time": "2022-12-16T01:26:12.390677Z"
    }
   },
   "outputs": [],
   "source": [
    "combination=[]\n",
    "for dist_win in dist_params:\n",
    "    for time_win in time_params:\n",
    "        window = (dist_win, time_win)\n",
    "        \n",
    "        combination.append(str(window))"
   ]
  },
  {
   "cell_type": "code",
   "execution_count": 332,
   "id": "a64c9984",
   "metadata": {
    "ExecuteTime": {
     "end_time": "2022-12-16T01:26:13.216614Z",
     "start_time": "2022-12-16T01:26:12.987919Z"
    }
   },
   "outputs": [
    {
     "data": {
      "text/plain": [
       "<matplotlib.legend.Legend at 0x7fd39b8e9ee0>"
      ]
     },
     "execution_count": 332,
     "metadata": {},
     "output_type": "execute_result"
    },
    {
     "data": {
      "image/png": "[encoded data removed]",
      "text/plain": [
       "<Figure size 1440x576 with 1 Axes>"
      ]
     },
     "metadata": {
      "needs_background": "light"
     },
     "output_type": "display_data"
    }
   ],
   "source": [
    "plt.figure(figsize=(20,8))\n",
    "plt.bar(combination, norm_loss, color ='maroon',label='gain',\n",
    "        width = 0.4)\n",
    "plt.legend()"
   ]
  },
  {
   "cell_type": "code",
   "execution_count": 169,
   "id": "b6120e3c",
   "metadata": {
    "ExecuteTime": {
     "end_time": "2022-12-15T23:23:07.530362Z",
     "start_time": "2022-12-15T23:23:07.324578Z"
    }
   },
   "outputs": [
    {
     "data": {
      "image/png": "[encoded data removed]",
      "text/plain": [
       "<Figure size 1440x576 with 1 Axes>"
      ]
     },
     "metadata": {
      "needs_background": "light"
     },
     "output_type": "display_data"
    }
   ],
   "source": [
    "#using the first objective function\n",
    "plt.figure(figsize=(20,8))\n",
    "plt.plot(combination,norm_acc, label='Accuracy graph',color=\"r\")\n",
    "plt.plot(combination,norm_loss, label='Loss graph',color=\"blue\")\n",
    "\n",
    "plt.title('Loss v. Accuracy')\n",
    "plt.legend()\n",
    "plt.show()\n",
    "plt.close()"
   ]
  },
  {
   "cell_type": "code",
   "execution_count": 327,
   "id": "d75ad54c",
   "metadata": {
    "ExecuteTime": {
     "end_time": "2022-12-16T01:24:56.421220Z",
     "start_time": "2022-12-16T01:24:56.226902Z"
    },
    "scrolled": false
   },
   "outputs": [
    {
     "data": {
      "image/png": "[encoded data removed]",
      "text/plain": [
       "<Figure size 1440x576 with 1 Axes>"
      ]
     },
     "metadata": {
      "needs_background": "light"
     },
     "output_type": "display_data"
    }
   ],
   "source": [
    "#using the second objective function\n",
    "plt.figure(figsize=(20,8))\n",
    "plt.plot(combination,norm_acc, label='Accuracy graph')\n",
    "plt.plot(combination,norm_loss, label='Loss graph')\n",
    "\n",
    "\n",
    "plt.title('Loss v. Accuracy')\n",
    "plt.legend()\n",
    "plt.show()\n",
    "plt.close()"
   ]
  },
  {
   "cell_type": "code",
   "execution_count": 32,
   "id": "e86f2378",
   "metadata": {
    "ExecuteTime": {
     "end_time": "2022-12-14T17:04:22.036593Z",
     "start_time": "2022-12-14T17:04:21.832833Z"
    }
   },
   "outputs": [
    {
     "data": {
      "image/png": "[encoded data removed]",
      "text/plain": [
       "<Figure size 1440x576 with 1 Axes>"
      ]
     },
     "metadata": {
      "needs_background": "light"
     },
     "output_type": "display_data"
    }
   ],
   "source": [
    "#using the third objective function\n",
    "import matplotlib.pyplot as plt\n",
    "import numpy as np\n",
    "\n",
    "plt.figure(figsize=(20,8))\n",
    "plt.plot(combination,norm_loss, label='Loss graph')\n",
    "plt.plot(combination,norm_acc, label='Accuracy graph')\n",
    "\n",
    "plt.title('Loss v. Accuracy')\n",
    "plt.legend()\n",
    "plt.show()\n",
    "plt.close()"
   ]
  },
  {
   "cell_type": "code",
   "execution_count": 41,
   "id": "f7d4b257",
   "metadata": {
    "ExecuteTime": {
     "end_time": "2022-12-14T17:06:17.212019Z",
     "start_time": "2022-12-14T17:06:17.022197Z"
    }
   },
   "outputs": [
    {
     "data": {
      "image/png": "[encoded data removed]",
      "text/plain": [
       "<Figure size 1440x576 with 1 Axes>"
      ]
     },
     "metadata": {
      "needs_background": "light"
     },
     "output_type": "display_data"
    }
   ],
   "source": [
    "#using the fourth objective function\n",
    "plt.figure(figsize=(20,8))\n",
    "plt.plot(combination,norm_loss, label='Loss graph')\n",
    "plt.plot(combination,norm_acc, label='Accuracy graph')\n",
    "\n",
    "plt.title('Loss v. Accuracy')\n",
    "plt.legend()\n",
    "plt.show()\n",
    "plt.close()"
   ]
  },
  {
   "cell_type": "code",
   "execution_count": 235,
   "id": "26a4bd42",
   "metadata": {
    "ExecuteTime": {
     "end_time": "2022-12-15T23:54:04.793681Z",
     "start_time": "2022-12-15T23:54:04.791164Z"
    }
   },
   "outputs": [],
   "source": [
    "y_test_prob = Ys_test[400,60]"
   ]
  },
  {
   "cell_type": "code",
   "execution_count": 251,
   "id": "70bd3c45",
   "metadata": {
    "ExecuteTime": {
     "end_time": "2022-12-15T23:59:11.589141Z",
     "start_time": "2022-12-15T23:59:10.960265Z"
    }
   },
   "outputs": [
    {
     "data": {
      "text/plain": [
       "(20000, 236)"
      ]
     },
     "execution_count": 251,
     "metadata": {},
     "output_type": "execute_result"
    }
   ],
   "source": [
    "y_train_prob = Ys_train[400,60]\n",
    "gnb = GaussianNB()\n",
    "y_pred_prob = gnb.fit(x_train, y_train_prob).predict_proba(x_test)\n",
    "y_pred_prob.shape"
   ]
  },
  {
   "cell_type": "code",
   "execution_count": 278,
   "id": "9a0c2608",
   "metadata": {
    "ExecuteTime": {
     "end_time": "2022-12-16T01:03:43.329093Z",
     "start_time": "2022-12-16T01:03:43.323656Z"
    }
   },
   "outputs": [
    {
     "data": {
      "text/plain": [
       "56308                 BURGLARY (IN PROGRESS): RESIDENCE\n",
       "73350             ASSIST POLICE OFFICER: UNIFORM/INSIDE\n",
       "50943    STATION INSPECTION BY TRANSIT BUREAU PERSONNEL\n",
       "5756                        VISIBILITY PATROL: DIRECTED\n",
       "50377                       VISIBILITY PATROL: DIRECTED\n",
       "                              ...                      \n",
       "71920                       VISIBILITY PATROL: DIRECTED\n",
       "46769               ASSAULT (IN PROGRESS): KNIFE/INSIDE\n",
       "16557                     SEE COMPLAINANT: OTHER/INSIDE\n",
       "1244                      SEE COMPLAINANT: OTHER/INSIDE\n",
       "86909                       VISIBILITY PATROL: DIRECTED\n",
       "Name: type_dist_400_time_60, Length: 80000, dtype: object"
      ]
     },
     "execution_count": 278,
     "metadata": {},
     "output_type": "execute_result"
    }
   ],
   "source": [
    "y_train_prob"
   ]
  },
  {
   "cell_type": "code",
   "execution_count": 276,
   "id": "ae90e595",
   "metadata": {
    "ExecuteTime": {
     "end_time": "2022-12-16T00:08:55.345440Z",
     "start_time": "2022-12-16T00:08:55.322327Z"
    },
    "scrolled": false
   },
   "outputs": [
    {
     "data": {
      "text/plain": [
       "Index(['VISIBILITY PATROL: DIRECTED', 'SEE COMPLAINANT: OTHER/INSIDE',\n",
       "       'STATION INSPECTION BY TRANSIT BUREAU PERSONNEL',\n",
       "       'TRAIN RUN/MOBILE ORDER MAINTENANCE SWEEP',\n",
       "       'TRAIN ORDER MAINTENANCE SWEEP (TOMS)', 'COMMUNITY TIME',\n",
       "       'VISIBILITY PATROL: FAMILY/HOME VISIT',\n",
       "       'INVESTIGATE/POSSIBLE CRIME: SERIOUS/OTHER',\n",
       "       'AMBULANCE CASE: EDP/INSIDE', 'ALL OUT DIRECTED',\n",
       "       ...\n",
       "       'OTHER NON-CRIME INCIDENT (SPECIFY): TRANSIT',\n",
       "       'AMBULANCE CASE: HEAVY BLEEDING/OUTSIDE',\n",
       "       'OTHER CRIMES (PAST): TRESPASS/OUTSIDE',\n",
       "       'INVESTIGATE/POSSIBLE CRIME: NARCO SALES/TRANSIT',\n",
       "       'INVESTIGATE/POSSIBLE CRIME: FIREARM/LTD ACC HWY',\n",
       "       'ASSAULT (PAST): OTHER/TRANSIT',\n",
       "       'BURGLARY (IN PROGRESS): OTHER/TRANSIT',\n",
       "       'ASSAULT (PAST): OTHER/CHILD ABUSE', 'FIRE: EXPLOSION/LTD ACC HWY',\n",
       "       'OTHER'],\n",
       "      dtype='object', length=236)"
      ]
     },
     "execution_count": 276,
     "metadata": {},
     "output_type": "execute_result"
    }
   ],
   "source": [
    "b=y_train_prob.value_counts()\n",
    "y_train_prob.value_counts()\n",
    "b.index"
   ]
  },
  {
   "cell_type": "code",
   "execution_count": 272,
   "id": "c2ed5ed7",
   "metadata": {
    "ExecuteTime": {
     "end_time": "2022-12-16T00:05:14.055094Z",
     "start_time": "2022-12-16T00:05:14.024990Z"
    }
   },
   "outputs": [],
   "source": [
    "names=[]\n",
    "for i in y_train_prob:\n",
    "    if i not in names:\n",
    "        names.append(i)"
   ]
  },
  {
   "cell_type": "code",
   "execution_count": 274,
   "id": "5bfffe50",
   "metadata": {
    "ExecuteTime": {
     "end_time": "2022-12-16T00:05:34.740382Z",
     "start_time": "2022-12-16T00:05:34.737633Z"
    }
   },
   "outputs": [],
   "source": [
    "df = pd.DataFrame(y_pred_prob, columns = names)"
   ]
  },
  {
   "cell_type": "code",
   "execution_count": 275,
   "id": "1b898f12",
   "metadata": {
    "ExecuteTime": {
     "end_time": "2022-12-16T00:05:35.721932Z",
     "start_time": "2022-12-16T00:05:35.691021Z"
    }
   },
   "outputs": [
    {
     "data": {
      "text/html": [
       "<div>\n",
       "<style scoped>\n",
       "    .dataframe tbody tr th:only-of-type {\n",
       "        vertical-align: middle;\n",
       "    }\n",
       "\n",
       "    .dataframe tbody tr th {\n",
       "        vertical-align: top;\n",
       "    }\n",
       "\n",
       "    .dataframe thead th {\n",
       "        text-align: right;\n",
       "    }\n",
       "</style>\n",
       "<table border=\"1\" class=\"dataframe\">\n",
       "  <thead>\n",
       "    <tr style=\"text-align: right;\">\n",
       "      <th></th>\n",
       "      <th>BURGLARY (IN PROGRESS): RESIDENCE</th>\n",
       "      <th>ASSIST POLICE OFFICER: UNIFORM/INSIDE</th>\n",
       "      <th>STATION INSPECTION BY TRANSIT BUREAU PERSONNEL</th>\n",
       "      <th>VISIBILITY PATROL: DIRECTED</th>\n",
       "      <th>COMMUNITY TIME</th>\n",
       "      <th>SEE COMPLAINANT: OTHER/INSIDE</th>\n",
       "      <th>TRAIN RUN/MOBILE ORDER MAINTENANCE SWEEP</th>\n",
       "      <th>AMBULANCE CASE: EDP/INSIDE</th>\n",
       "      <th>INVESTIGATE/POSSIBLE CRIME: SERIOUS/OTHER</th>\n",
       "      <th>ASSAULT (PAST): OTHER/INSIDE</th>\n",
       "      <th>...</th>\n",
       "      <th>INVESTIGATE/POSSIBLE CRIME: FIREARM/LTD ACC HWY</th>\n",
       "      <th>AMBULANCE CASE: UNCONSCIOUS/LTD ACC HWY</th>\n",
       "      <th>OTHER-CRIME INCIDENT: MARIJUANA/INSIDE</th>\n",
       "      <th>INVESTIGATE/POSSIBLE CRIME: OTHER/INSIDE</th>\n",
       "      <th>FIRE: STORE</th>\n",
       "      <th>ASSAULT (IN PROGRESS): KNIFE/LTD ACC HWY</th>\n",
       "      <th>OTHER</th>\n",
       "      <th>AMBULANCE CASE: SERIOUS/LTD ACC HWY</th>\n",
       "      <th>SUSP PACKAGE: LTD ACC HWY</th>\n",
       "      <th>ASSAULT (PAST): WEAPON/OUTSIDE</th>\n",
       "    </tr>\n",
       "  </thead>\n",
       "  <tbody>\n",
       "    <tr>\n",
       "      <th>0</th>\n",
       "      <td>6.186118e-06</td>\n",
       "      <td>0.000018</td>\n",
       "      <td>0.000678</td>\n",
       "      <td>0.000282</td>\n",
       "      <td>0.000355</td>\n",
       "      <td>2.505920e-06</td>\n",
       "      <td>0.012756</td>\n",
       "      <td>0.000372</td>\n",
       "      <td>0.0</td>\n",
       "      <td>0.000363</td>\n",
       "      <td>...</td>\n",
       "      <td>0.000215</td>\n",
       "      <td>0.003196</td>\n",
       "      <td>0.000203</td>\n",
       "      <td>0.535593</td>\n",
       "      <td>0.033448</td>\n",
       "      <td>0.003480</td>\n",
       "      <td>1.635610e-04</td>\n",
       "      <td>2.452491e-13</td>\n",
       "      <td>0.000927</td>\n",
       "      <td>3.808735e-09</td>\n",
       "    </tr>\n",
       "    <tr>\n",
       "      <th>1</th>\n",
       "      <td>1.792893e-10</td>\n",
       "      <td>0.000216</td>\n",
       "      <td>0.000956</td>\n",
       "      <td>0.000217</td>\n",
       "      <td>0.000455</td>\n",
       "      <td>5.417082e-06</td>\n",
       "      <td>0.009520</td>\n",
       "      <td>0.000316</td>\n",
       "      <td>0.0</td>\n",
       "      <td>0.000023</td>\n",
       "      <td>...</td>\n",
       "      <td>0.000306</td>\n",
       "      <td>0.001693</td>\n",
       "      <td>0.000128</td>\n",
       "      <td>0.346550</td>\n",
       "      <td>0.024788</td>\n",
       "      <td>0.001708</td>\n",
       "      <td>1.442144e-05</td>\n",
       "      <td>4.197775e-08</td>\n",
       "      <td>0.003183</td>\n",
       "      <td>3.625292e-06</td>\n",
       "    </tr>\n",
       "    <tr>\n",
       "      <th>2</th>\n",
       "      <td>4.964858e-11</td>\n",
       "      <td>0.000254</td>\n",
       "      <td>0.001197</td>\n",
       "      <td>0.000515</td>\n",
       "      <td>0.000670</td>\n",
       "      <td>8.483006e-07</td>\n",
       "      <td>0.014168</td>\n",
       "      <td>0.000489</td>\n",
       "      <td>0.0</td>\n",
       "      <td>0.000121</td>\n",
       "      <td>...</td>\n",
       "      <td>0.000727</td>\n",
       "      <td>0.001486</td>\n",
       "      <td>0.000193</td>\n",
       "      <td>0.403237</td>\n",
       "      <td>0.034120</td>\n",
       "      <td>0.002164</td>\n",
       "      <td>8.114124e-06</td>\n",
       "      <td>4.566714e-10</td>\n",
       "      <td>0.005190</td>\n",
       "      <td>3.258003e-05</td>\n",
       "    </tr>\n",
       "    <tr>\n",
       "      <th>3</th>\n",
       "      <td>2.013710e-09</td>\n",
       "      <td>0.000009</td>\n",
       "      <td>0.000554</td>\n",
       "      <td>0.000198</td>\n",
       "      <td>0.000580</td>\n",
       "      <td>4.360091e-06</td>\n",
       "      <td>0.010811</td>\n",
       "      <td>0.000399</td>\n",
       "      <td>0.0</td>\n",
       "      <td>0.004329</td>\n",
       "      <td>...</td>\n",
       "      <td>0.000096</td>\n",
       "      <td>0.006493</td>\n",
       "      <td>0.000212</td>\n",
       "      <td>0.524581</td>\n",
       "      <td>0.037454</td>\n",
       "      <td>0.005752</td>\n",
       "      <td>8.540139e-05</td>\n",
       "      <td>3.968847e-24</td>\n",
       "      <td>0.000417</td>\n",
       "      <td>1.154727e-13</td>\n",
       "    </tr>\n",
       "    <tr>\n",
       "      <th>4</th>\n",
       "      <td>4.035646e-11</td>\n",
       "      <td>0.000097</td>\n",
       "      <td>0.001966</td>\n",
       "      <td>0.000149</td>\n",
       "      <td>0.000512</td>\n",
       "      <td>7.227658e-08</td>\n",
       "      <td>0.003893</td>\n",
       "      <td>0.000346</td>\n",
       "      <td>0.0</td>\n",
       "      <td>0.000128</td>\n",
       "      <td>...</td>\n",
       "      <td>0.000110</td>\n",
       "      <td>0.002124</td>\n",
       "      <td>0.000027</td>\n",
       "      <td>0.539426</td>\n",
       "      <td>0.028738</td>\n",
       "      <td>0.004208</td>\n",
       "      <td>8.957983e-05</td>\n",
       "      <td>3.052131e-82</td>\n",
       "      <td>0.003906</td>\n",
       "      <td>1.362099e-34</td>\n",
       "    </tr>\n",
       "    <tr>\n",
       "      <th>...</th>\n",
       "      <td>...</td>\n",
       "      <td>...</td>\n",
       "      <td>...</td>\n",
       "      <td>...</td>\n",
       "      <td>...</td>\n",
       "      <td>...</td>\n",
       "      <td>...</td>\n",
       "      <td>...</td>\n",
       "      <td>...</td>\n",
       "      <td>...</td>\n",
       "      <td>...</td>\n",
       "      <td>...</td>\n",
       "      <td>...</td>\n",
       "      <td>...</td>\n",
       "      <td>...</td>\n",
       "      <td>...</td>\n",
       "      <td>...</td>\n",
       "      <td>...</td>\n",
       "      <td>...</td>\n",
       "      <td>...</td>\n",
       "      <td>...</td>\n",
       "    </tr>\n",
       "    <tr>\n",
       "      <th>19995</th>\n",
       "      <td>4.502587e-16</td>\n",
       "      <td>0.000218</td>\n",
       "      <td>0.001547</td>\n",
       "      <td>0.000348</td>\n",
       "      <td>0.000850</td>\n",
       "      <td>4.669349e-04</td>\n",
       "      <td>0.008453</td>\n",
       "      <td>0.000351</td>\n",
       "      <td>0.0</td>\n",
       "      <td>0.000211</td>\n",
       "      <td>...</td>\n",
       "      <td>0.000209</td>\n",
       "      <td>0.001806</td>\n",
       "      <td>0.000199</td>\n",
       "      <td>0.370278</td>\n",
       "      <td>0.032742</td>\n",
       "      <td>0.002697</td>\n",
       "      <td>1.412768e-04</td>\n",
       "      <td>1.530391e-20</td>\n",
       "      <td>0.010334</td>\n",
       "      <td>2.070740e-10</td>\n",
       "    </tr>\n",
       "    <tr>\n",
       "      <th>19996</th>\n",
       "      <td>6.417996e-09</td>\n",
       "      <td>0.000705</td>\n",
       "      <td>0.001431</td>\n",
       "      <td>0.000163</td>\n",
       "      <td>0.001372</td>\n",
       "      <td>3.091635e-09</td>\n",
       "      <td>0.008984</td>\n",
       "      <td>0.000525</td>\n",
       "      <td>0.0</td>\n",
       "      <td>0.000057</td>\n",
       "      <td>...</td>\n",
       "      <td>0.000440</td>\n",
       "      <td>0.001136</td>\n",
       "      <td>0.000238</td>\n",
       "      <td>0.382921</td>\n",
       "      <td>0.034462</td>\n",
       "      <td>0.002154</td>\n",
       "      <td>5.297944e-07</td>\n",
       "      <td>1.367409e-04</td>\n",
       "      <td>0.003610</td>\n",
       "      <td>6.318671e-04</td>\n",
       "    </tr>\n",
       "    <tr>\n",
       "      <th>19997</th>\n",
       "      <td>4.995708e-11</td>\n",
       "      <td>0.000363</td>\n",
       "      <td>0.002106</td>\n",
       "      <td>0.000153</td>\n",
       "      <td>0.002005</td>\n",
       "      <td>1.269048e-03</td>\n",
       "      <td>0.008140</td>\n",
       "      <td>0.000582</td>\n",
       "      <td>0.0</td>\n",
       "      <td>0.000213</td>\n",
       "      <td>...</td>\n",
       "      <td>0.000295</td>\n",
       "      <td>0.001842</td>\n",
       "      <td>0.000165</td>\n",
       "      <td>0.360600</td>\n",
       "      <td>0.035721</td>\n",
       "      <td>0.002992</td>\n",
       "      <td>3.233942e-05</td>\n",
       "      <td>2.066680e-27</td>\n",
       "      <td>0.009828</td>\n",
       "      <td>1.485077e-13</td>\n",
       "    </tr>\n",
       "    <tr>\n",
       "      <th>19998</th>\n",
       "      <td>1.602347e-04</td>\n",
       "      <td>0.000144</td>\n",
       "      <td>0.001231</td>\n",
       "      <td>0.000108</td>\n",
       "      <td>0.000158</td>\n",
       "      <td>7.568403e-14</td>\n",
       "      <td>0.005300</td>\n",
       "      <td>0.000439</td>\n",
       "      <td>0.0</td>\n",
       "      <td>0.000018</td>\n",
       "      <td>...</td>\n",
       "      <td>0.000182</td>\n",
       "      <td>0.000645</td>\n",
       "      <td>0.000238</td>\n",
       "      <td>0.386617</td>\n",
       "      <td>0.033419</td>\n",
       "      <td>0.002096</td>\n",
       "      <td>1.921340e-07</td>\n",
       "      <td>2.213594e-08</td>\n",
       "      <td>0.002348</td>\n",
       "      <td>9.658155e-05</td>\n",
       "    </tr>\n",
       "    <tr>\n",
       "      <th>19999</th>\n",
       "      <td>3.775655e-14</td>\n",
       "      <td>0.000239</td>\n",
       "      <td>0.001151</td>\n",
       "      <td>0.000154</td>\n",
       "      <td>0.000139</td>\n",
       "      <td>1.355476e-06</td>\n",
       "      <td>0.008229</td>\n",
       "      <td>0.000243</td>\n",
       "      <td>0.0</td>\n",
       "      <td>0.000085</td>\n",
       "      <td>...</td>\n",
       "      <td>0.000094</td>\n",
       "      <td>0.001613</td>\n",
       "      <td>0.000267</td>\n",
       "      <td>0.332115</td>\n",
       "      <td>0.039243</td>\n",
       "      <td>0.001971</td>\n",
       "      <td>7.009084e-06</td>\n",
       "      <td>2.347759e-04</td>\n",
       "      <td>0.005164</td>\n",
       "      <td>3.083494e-06</td>\n",
       "    </tr>\n",
       "  </tbody>\n",
       "</table>\n",
       "<p>20000 rows × 236 columns</p>\n",
       "</div>"
      ],
      "text/plain": [
       "       BURGLARY (IN PROGRESS): RESIDENCE  \\\n",
       "0                           6.186118e-06   \n",
       "1                           1.792893e-10   \n",
       "2                           4.964858e-11   \n",
       "3                           2.013710e-09   \n",
       "4                           4.035646e-11   \n",
       "...                                  ...   \n",
       "19995                       4.502587e-16   \n",
       "19996                       6.417996e-09   \n",
       "19997                       4.995708e-11   \n",
       "19998                       1.602347e-04   \n",
       "19999                       3.775655e-14   \n",
       "\n",
       "       ASSIST POLICE OFFICER: UNIFORM/INSIDE  \\\n",
       "0                                   0.000018   \n",
       "1                                   0.000216   \n",
       "2                                   0.000254   \n",
       "3                                   0.000009   \n",
       "4                                   0.000097   \n",
       "...                                      ...   \n",
       "19995                               0.000218   \n",
       "19996                               0.000705   \n",
       "19997                               0.000363   \n",
       "19998                               0.000144   \n",
       "19999                               0.000239   \n",
       "\n",
       "       STATION INSPECTION BY TRANSIT BUREAU PERSONNEL  \\\n",
       "0                                            0.000678   \n",
       "1                                            0.000956   \n",
       "2                                            0.001197   \n",
       "3                                            0.000554   \n",
       "4                                            0.001966   \n",
       "...                                               ...   \n",
       "19995                                        0.001547   \n",
       "19996                                        0.001431   \n",
       "19997                                        0.002106   \n",
       "19998                                        0.001231   \n",
       "19999                                        0.001151   \n",
       "\n",
       "       VISIBILITY PATROL: DIRECTED  COMMUNITY TIME  \\\n",
       "0                         0.000282        0.000355   \n",
       "1                         0.000217        0.000455   \n",
       "2                         0.000515        0.000670   \n",
       "3                         0.000198        0.000580   \n",
       "4                         0.000149        0.000512   \n",
       "...                            ...             ...   \n",
       "19995                     0.000348        0.000850   \n",
       "19996                     0.000163        0.001372   \n",
       "19997                     0.000153        0.002005   \n",
       "19998                     0.000108        0.000158   \n",
       "19999                     0.000154        0.000139   \n",
       "\n",
       "       SEE COMPLAINANT: OTHER/INSIDE  \\\n",
       "0                       2.505920e-06   \n",
       "1                       5.417082e-06   \n",
       "2                       8.483006e-07   \n",
       "3                       4.360091e-06   \n",
       "4                       7.227658e-08   \n",
       "...                              ...   \n",
       "19995                   4.669349e-04   \n",
       "19996                   3.091635e-09   \n",
       "19997                   1.269048e-03   \n",
       "19998                   7.568403e-14   \n",
       "19999                   1.355476e-06   \n",
       "\n",
       "       TRAIN RUN/MOBILE ORDER MAINTENANCE SWEEP  AMBULANCE CASE: EDP/INSIDE  \\\n",
       "0                                      0.012756                    0.000372   \n",
       "1                                      0.009520                    0.000316   \n",
       "2                                      0.014168                    0.000489   \n",
       "3                                      0.010811                    0.000399   \n",
       "4                                      0.003893                    0.000346   \n",
       "...                                         ...                         ...   \n",
       "19995                                  0.008453                    0.000351   \n",
       "19996                                  0.008984                    0.000525   \n",
       "19997                                  0.008140                    0.000582   \n",
       "19998                                  0.005300                    0.000439   \n",
       "19999                                  0.008229                    0.000243   \n",
       "\n",
       "       INVESTIGATE/POSSIBLE CRIME: SERIOUS/OTHER  \\\n",
       "0                                            0.0   \n",
       "1                                            0.0   \n",
       "2                                            0.0   \n",
       "3                                            0.0   \n",
       "4                                            0.0   \n",
       "...                                          ...   \n",
       "19995                                        0.0   \n",
       "19996                                        0.0   \n",
       "19997                                        0.0   \n",
       "19998                                        0.0   \n",
       "19999                                        0.0   \n",
       "\n",
       "       ASSAULT (PAST): OTHER/INSIDE  ...  \\\n",
       "0                          0.000363  ...   \n",
       "1                          0.000023  ...   \n",
       "2                          0.000121  ...   \n",
       "3                          0.004329  ...   \n",
       "4                          0.000128  ...   \n",
       "...                             ...  ...   \n",
       "19995                      0.000211  ...   \n",
       "19996                      0.000057  ...   \n",
       "19997                      0.000213  ...   \n",
       "19998                      0.000018  ...   \n",
       "19999                      0.000085  ...   \n",
       "\n",
       "       INVESTIGATE/POSSIBLE CRIME: FIREARM/LTD ACC HWY  \\\n",
       "0                                             0.000215   \n",
       "1                                             0.000306   \n",
       "2                                             0.000727   \n",
       "3                                             0.000096   \n",
       "4                                             0.000110   \n",
       "...                                                ...   \n",
       "19995                                         0.000209   \n",
       "19996                                         0.000440   \n",
       "19997                                         0.000295   \n",
       "19998                                         0.000182   \n",
       "19999                                         0.000094   \n",
       "\n",
       "       AMBULANCE CASE: UNCONSCIOUS/LTD ACC HWY  \\\n",
       "0                                     0.003196   \n",
       "1                                     0.001693   \n",
       "2                                     0.001486   \n",
       "3                                     0.006493   \n",
       "4                                     0.002124   \n",
       "...                                        ...   \n",
       "19995                                 0.001806   \n",
       "19996                                 0.001136   \n",
       "19997                                 0.001842   \n",
       "19998                                 0.000645   \n",
       "19999                                 0.001613   \n",
       "\n",
       "       OTHER-CRIME INCIDENT: MARIJUANA/INSIDE  \\\n",
       "0                                    0.000203   \n",
       "1                                    0.000128   \n",
       "2                                    0.000193   \n",
       "3                                    0.000212   \n",
       "4                                    0.000027   \n",
       "...                                       ...   \n",
       "19995                                0.000199   \n",
       "19996                                0.000238   \n",
       "19997                                0.000165   \n",
       "19998                                0.000238   \n",
       "19999                                0.000267   \n",
       "\n",
       "       INVESTIGATE/POSSIBLE CRIME: OTHER/INSIDE  FIRE: STORE  \\\n",
       "0                                      0.535593     0.033448   \n",
       "1                                      0.346550     0.024788   \n",
       "2                                      0.403237     0.034120   \n",
       "3                                      0.524581     0.037454   \n",
       "4                                      0.539426     0.028738   \n",
       "...                                         ...          ...   \n",
       "19995                                  0.370278     0.032742   \n",
       "19996                                  0.382921     0.034462   \n",
       "19997                                  0.360600     0.035721   \n",
       "19998                                  0.386617     0.033419   \n",
       "19999                                  0.332115     0.039243   \n",
       "\n",
       "       ASSAULT (IN PROGRESS): KNIFE/LTD ACC HWY         OTHER  \\\n",
       "0                                      0.003480  1.635610e-04   \n",
       "1                                      0.001708  1.442144e-05   \n",
       "2                                      0.002164  8.114124e-06   \n",
       "3                                      0.005752  8.540139e-05   \n",
       "4                                      0.004208  8.957983e-05   \n",
       "...                                         ...           ...   \n",
       "19995                                  0.002697  1.412768e-04   \n",
       "19996                                  0.002154  5.297944e-07   \n",
       "19997                                  0.002992  3.233942e-05   \n",
       "19998                                  0.002096  1.921340e-07   \n",
       "19999                                  0.001971  7.009084e-06   \n",
       "\n",
       "       AMBULANCE CASE: SERIOUS/LTD ACC HWY  SUSP PACKAGE: LTD ACC HWY  \\\n",
       "0                             2.452491e-13                   0.000927   \n",
       "1                             4.197775e-08                   0.003183   \n",
       "2                             4.566714e-10                   0.005190   \n",
       "3                             3.968847e-24                   0.000417   \n",
       "4                             3.052131e-82                   0.003906   \n",
       "...                                    ...                        ...   \n",
       "19995                         1.530391e-20                   0.010334   \n",
       "19996                         1.367409e-04                   0.003610   \n",
       "19997                         2.066680e-27                   0.009828   \n",
       "19998                         2.213594e-08                   0.002348   \n",
       "19999                         2.347759e-04                   0.005164   \n",
       "\n",
       "       ASSAULT (PAST): WEAPON/OUTSIDE  \n",
       "0                        3.808735e-09  \n",
       "1                        3.625292e-06  \n",
       "2                        3.258003e-05  \n",
       "3                        1.154727e-13  \n",
       "4                        1.362099e-34  \n",
       "...                               ...  \n",
       "19995                    2.070740e-10  \n",
       "19996                    6.318671e-04  \n",
       "19997                    1.485077e-13  \n",
       "19998                    9.658155e-05  \n",
       "19999                    3.083494e-06  \n",
       "\n",
       "[20000 rows x 236 columns]"
      ]
     },
     "execution_count": 275,
     "metadata": {},
     "output_type": "execute_result"
    }
   ],
   "source": [
    "df"
   ]
  },
  {
   "cell_type": "code",
   "execution_count": 281,
   "id": "c524c2ea",
   "metadata": {
    "ExecuteTime": {
     "end_time": "2022-12-16T01:05:01.761910Z",
     "start_time": "2022-12-16T01:05:01.757347Z"
    }
   },
   "outputs": [
    {
     "data": {
      "text/plain": [
       "INVESTIGATE/POSSIBLE CRIME: OTHER/INSIDE       0.424909\n",
       "LARCENY (PAST): FROM PERSON/TRANSIT            0.125301\n",
       "LARCENY (IN PROGRESS): FROM PERSON/INSIDE      0.089673\n",
       "AMBULANCE CASE: BURN SERIOUS/OUTSIDE           0.040404\n",
       "INVESTIGATE/POSSIBLE CRIME: FIREARM/OUTSIDE    0.038639\n",
       "Name: 5462, dtype: float64"
      ]
     },
     "execution_count": 281,
     "metadata": {},
     "output_type": "execute_result"
    }
   ],
   "source": [
    "top_10"
   ]
  },
  {
   "cell_type": "code",
   "execution_count": 287,
   "id": "f996749f",
   "metadata": {
    "ExecuteTime": {
     "end_time": "2022-12-16T01:08:30.744852Z",
     "start_time": "2022-12-16T01:08:30.739862Z"
    }
   },
   "outputs": [
    {
     "data": {
      "text/plain": [
       "BURGLARY (IN PROGRESS): RESIDENCE                 6.461806e-11\n",
       "ASSIST POLICE OFFICER: UNIFORM/INSIDE             3.292090e-04\n",
       "STATION INSPECTION BY TRANSIT BUREAU PERSONNEL    2.090891e-03\n",
       "VISIBILITY PATROL: DIRECTED                       1.189867e-04\n",
       "COMMUNITY TIME                                    2.472611e-03\n",
       "                                                      ...     \n",
       "ASSAULT (IN PROGRESS): KNIFE/LTD ACC HWY          3.225317e-03\n",
       "OTHER                                             3.669619e-05\n",
       "AMBULANCE CASE: SERIOUS/LTD ACC HWY               9.369393e-28\n",
       "SUSP PACKAGE: LTD ACC HWY                         8.119613e-03\n",
       "ASSAULT (PAST): WEAPON/OUTSIDE                    7.456609e-14\n",
       "Name: 19000, Length: 236, dtype: float64"
      ]
     },
     "execution_count": 287,
     "metadata": {},
     "output_type": "execute_result"
    }
   ],
   "source": [
    "one_row"
   ]
  },
  {
   "cell_type": "code",
   "execution_count": 290,
   "id": "ed7f9651",
   "metadata": {
    "ExecuteTime": {
     "end_time": "2022-12-16T01:09:37.541487Z",
     "start_time": "2022-12-16T01:09:37.271706Z"
    }
   },
   "outputs": [
    {
     "data": {
      "text/plain": [
       "<BarContainer object of 10 artists>"
      ]
     },
     "execution_count": 290,
     "metadata": {},
     "output_type": "execute_result"
    },
    {
     "data": {
      "image/png": "[encoded data removed]",
      "text/plain": [
       "<Figure size 2880x1440 with 1 Axes>"
      ]
     },
     "metadata": {
      "needs_background": "light"
     },
     "output_type": "display_data"
    }
   ],
   "source": [
    "one_row=df.iloc[1605]\n",
    "top_10=one_row.sort_values(ascending=False).head(10)\n",
    "plt.figure(figsize=(40,20))\n",
    "plt.bar(top_10.index, top_10.values,\n",
    "        width = 0.4)"
   ]
  },
  {
   "cell_type": "code",
   "execution_count": 266,
   "id": "bbbc926d",
   "metadata": {
    "ExecuteTime": {
     "end_time": "2022-12-16T00:01:22.267067Z",
     "start_time": "2022-12-16T00:01:22.129202Z"
    }
   },
   "outputs": [
    {
     "data": {
      "text/plain": [
       "<BarContainer object of 5 artists>"
      ]
     },
     "execution_count": 266,
     "metadata": {},
     "output_type": "execute_result"
    },
    {
     "data": {
      "image/png": "[encoded data removed]",
      "text/plain": [
       "<Figure size 1440x576 with 1 Axes>"
      ]
     },
     "metadata": {
      "needs_background": "light"
     },
     "output_type": "display_data"
    }
   ],
   "source": [
    "one_row=df.iloc[9123]\n",
    "top_10=one_row.sort_values(ascending=False).head(5)\n",
    "plt.figure(figsize=(20,8))\n",
    "plt.bar(top_10.index, top_10.values,\n",
    "        width = 0.4)"
   ]
  },
  {
   "cell_type": "code",
   "execution_count": 286,
   "id": "00fac30e",
   "metadata": {
    "ExecuteTime": {
     "end_time": "2022-12-16T01:07:08.196651Z",
     "start_time": "2022-12-16T01:07:08.015517Z"
    }
   },
   "outputs": [
    {
     "data": {
      "text/plain": [
       "<BarContainer object of 5 artists>"
      ]
     },
     "execution_count": 286,
     "metadata": {},
     "output_type": "execute_result"
    },
    {
     "data": {
      "image/png": "[encoded data removed]",
      "text/plain": [
       "<Figure size 1440x576 with 1 Axes>"
      ]
     },
     "metadata": {
      "needs_background": "light"
     },
     "output_type": "display_data"
    }
   ],
   "source": [
    "one_row=df.iloc[19000]\n",
    "top_10=one_row.sort_values(ascending=False).head(5)\n",
    "plt.figure(figsize=(20,8))\n",
    "plt.bar(top_10.index, top_10.values,\n",
    "        width = 0.4)"
   ]
  },
  {
   "cell_type": "code",
   "execution_count": 120,
   "id": "e00c09af",
   "metadata": {
    "ExecuteTime": {
     "end_time": "2022-12-14T18:31:24.515769Z",
     "start_time": "2022-12-14T18:31:24.363182Z"
    }
   },
   "outputs": [
    {
     "data": {
      "image/png": "[encoded data removed]",
      "text/plain": [
       "<Figure size 432x288 with 1 Axes>"
      ]
     },
     "metadata": {
      "needs_background": "light"
     },
     "output_type": "display_data"
    }
   ],
   "source": [
    "for time_win in time_params:\n",
    "    plt.plot(dist_params, [lg_accuracy[(dist_win, time_win)] for dist_win in dist_params], label = str(time_win)+'min')\n",
    "plt.xlabel('Distance window radius')\n",
    "plt.ylabel('Accuracy')\n",
    "plt.title('Navie Bayes window accuracy')\n",
    "plt.legend()\n",
    "plt.show()"
   ]
  },
  {
   "cell_type": "code",
   "execution_count": 126,
   "id": "84c254ac",
   "metadata": {
    "ExecuteTime": {
     "end_time": "2022-12-14T20:59:02.207531Z",
     "start_time": "2022-12-14T20:59:02.204762Z"
    }
   },
   "outputs": [],
   "source": [
    "windows = [(0,0)]\n",
    "for dist_win in dist_params:\n",
    "    for time_win in time_params:\n",
    "        windows.append((dist_win, time_win))"
   ]
  },
  {
   "cell_type": "code",
   "execution_count": 333,
   "id": "997f4a2d",
   "metadata": {
    "ExecuteTime": {
     "end_time": "2022-12-16T01:26:23.323886Z",
     "start_time": "2022-12-16T01:26:23.299918Z"
    }
   },
   "outputs": [
    {
     "data": {
      "text/html": [
       "<div>\n",
       "<style scoped>\n",
       "    .dataframe tbody tr th:only-of-type {\n",
       "        vertical-align: middle;\n",
       "    }\n",
       "\n",
       "    .dataframe tbody tr th {\n",
       "        vertical-align: top;\n",
       "    }\n",
       "\n",
       "    .dataframe thead th {\n",
       "        text-align: right;\n",
       "    }\n",
       "</style>\n",
       "<table border=\"1\" class=\"dataframe\">\n",
       "  <thead>\n",
       "    <tr style=\"text-align: right;\">\n",
       "      <th></th>\n",
       "      <th>Window</th>\n",
       "      <th>Accuracy</th>\n",
       "      <th>Percent improvement</th>\n",
       "      <th>Objective gain</th>\n",
       "    </tr>\n",
       "  </thead>\n",
       "  <tbody>\n",
       "    <tr>\n",
       "      <th>0</th>\n",
       "      <td>(800, 60)</td>\n",
       "      <td>0.55</td>\n",
       "      <td>139.83</td>\n",
       "      <td>0.55</td>\n",
       "    </tr>\n",
       "    <tr>\n",
       "      <th>1</th>\n",
       "      <td>(800, 30)</td>\n",
       "      <td>0.49</td>\n",
       "      <td>113.20</td>\n",
       "      <td>0.49</td>\n",
       "    </tr>\n",
       "    <tr>\n",
       "      <th>2</th>\n",
       "      <td>(800, 20)</td>\n",
       "      <td>0.47</td>\n",
       "      <td>102.62</td>\n",
       "      <td>0.47</td>\n",
       "    </tr>\n",
       "    <tr>\n",
       "      <th>3</th>\n",
       "      <td>(800, 10)</td>\n",
       "      <td>0.37</td>\n",
       "      <td>62.06</td>\n",
       "      <td>0.37</td>\n",
       "    </tr>\n",
       "    <tr>\n",
       "      <th>4</th>\n",
       "      <td>(400, 60)</td>\n",
       "      <td>0.41</td>\n",
       "      <td>77.99</td>\n",
       "      <td>0.41</td>\n",
       "    </tr>\n",
       "    <tr>\n",
       "      <th>5</th>\n",
       "      <td>(400, 30)</td>\n",
       "      <td>0.34</td>\n",
       "      <td>46.90</td>\n",
       "      <td>0.34</td>\n",
       "    </tr>\n",
       "    <tr>\n",
       "      <th>6</th>\n",
       "      <td>(400, 20)</td>\n",
       "      <td>0.31</td>\n",
       "      <td>33.98</td>\n",
       "      <td>0.31</td>\n",
       "    </tr>\n",
       "    <tr>\n",
       "      <th>7</th>\n",
       "      <td>(400, 10)</td>\n",
       "      <td>0.25</td>\n",
       "      <td>10.08</td>\n",
       "      <td>0.25</td>\n",
       "    </tr>\n",
       "    <tr>\n",
       "      <th>8</th>\n",
       "      <td>(200, 60)</td>\n",
       "      <td>0.30</td>\n",
       "      <td>30.90</td>\n",
       "      <td>0.30</td>\n",
       "    </tr>\n",
       "    <tr>\n",
       "      <th>9</th>\n",
       "      <td>(200, 30)</td>\n",
       "      <td>0.26</td>\n",
       "      <td>13.07</td>\n",
       "      <td>0.26</td>\n",
       "    </tr>\n",
       "    <tr>\n",
       "      <th>10</th>\n",
       "      <td>(200, 20)</td>\n",
       "      <td>0.26</td>\n",
       "      <td>11.56</td>\n",
       "      <td>0.26</td>\n",
       "    </tr>\n",
       "    <tr>\n",
       "      <th>11</th>\n",
       "      <td>(200, 10)</td>\n",
       "      <td>0.24</td>\n",
       "      <td>5.77</td>\n",
       "      <td>0.24</td>\n",
       "    </tr>\n",
       "    <tr>\n",
       "      <th>12</th>\n",
       "      <td>(100, 60)</td>\n",
       "      <td>0.28</td>\n",
       "      <td>19.86</td>\n",
       "      <td>0.28</td>\n",
       "    </tr>\n",
       "    <tr>\n",
       "      <th>13</th>\n",
       "      <td>(100, 30)</td>\n",
       "      <td>0.26</td>\n",
       "      <td>14.51</td>\n",
       "      <td>0.26</td>\n",
       "    </tr>\n",
       "    <tr>\n",
       "      <th>14</th>\n",
       "      <td>(100, 20)</td>\n",
       "      <td>0.26</td>\n",
       "      <td>12.49</td>\n",
       "      <td>0.26</td>\n",
       "    </tr>\n",
       "    <tr>\n",
       "      <th>15</th>\n",
       "      <td>(100, 10)</td>\n",
       "      <td>0.25</td>\n",
       "      <td>6.61</td>\n",
       "      <td>0.24</td>\n",
       "    </tr>\n",
       "    <tr>\n",
       "      <th>16</th>\n",
       "      <td>(50, 60)</td>\n",
       "      <td>0.28</td>\n",
       "      <td>19.25</td>\n",
       "      <td>0.27</td>\n",
       "    </tr>\n",
       "    <tr>\n",
       "      <th>17</th>\n",
       "      <td>(50, 30)</td>\n",
       "      <td>0.26</td>\n",
       "      <td>13.36</td>\n",
       "      <td>0.26</td>\n",
       "    </tr>\n",
       "    <tr>\n",
       "      <th>18</th>\n",
       "      <td>(50, 20)</td>\n",
       "      <td>0.26</td>\n",
       "      <td>11.36</td>\n",
       "      <td>0.26</td>\n",
       "    </tr>\n",
       "    <tr>\n",
       "      <th>19</th>\n",
       "      <td>(50, 10)</td>\n",
       "      <td>0.25</td>\n",
       "      <td>6.98</td>\n",
       "      <td>0.25</td>\n",
       "    </tr>\n",
       "  </tbody>\n",
       "</table>\n",
       "</div>"
      ],
      "text/plain": [
       "       Window  Accuracy  Percent improvement  Objective gain\n",
       "0   (800, 60)      0.55               139.83            0.55\n",
       "1   (800, 30)      0.49               113.20            0.49\n",
       "2   (800, 20)      0.47               102.62            0.47\n",
       "3   (800, 10)      0.37                62.06            0.37\n",
       "4   (400, 60)      0.41                77.99            0.41\n",
       "5   (400, 30)      0.34                46.90            0.34\n",
       "6   (400, 20)      0.31                33.98            0.31\n",
       "7   (400, 10)      0.25                10.08            0.25\n",
       "8   (200, 60)      0.30                30.90            0.30\n",
       "9   (200, 30)      0.26                13.07            0.26\n",
       "10  (200, 20)      0.26                11.56            0.26\n",
       "11  (200, 10)      0.24                 5.77            0.24\n",
       "12  (100, 60)      0.28                19.86            0.28\n",
       "13  (100, 30)      0.26                14.51            0.26\n",
       "14  (100, 20)      0.26                12.49            0.26\n",
       "15  (100, 10)      0.25                 6.61            0.24\n",
       "16   (50, 60)      0.28                19.25            0.27\n",
       "17   (50, 30)      0.26                13.36            0.26\n",
       "18   (50, 20)      0.26                11.36            0.26\n",
       "19   (50, 10)      0.25                 6.98            0.25"
      ]
     },
     "execution_count": 333,
     "metadata": {},
     "output_type": "execute_result"
    }
   ],
   "source": [
    "acc_results = pd.DataFrame(columns=['Window'])\n",
    "acc_results['Window'] = windows\n",
    "acc = []\n",
    "for win in windows:\n",
    "    acc.append(round(lg_accuracy[win], 2))\n",
    "acc_results['Accuracy'] = acc\n",
    "acc = []\n",
    "base_acc = acc_base\n",
    "for win in windows:\n",
    "    win_acc = lg_accuracy[win]\n",
    "    acc.append(round((win_acc - base_acc) / base_acc * 100, 2))\n",
    "acc_results['Percent improvement'] = acc\n",
    "gain = []\n",
    "for win in windows:\n",
    "    gain.append(round(objFunction_3(lg_accuracy[win], c, dist_win, time_win), 2))\n",
    "acc_results['Objective gain'] = gain\n",
    "acc_results"
   ]
  },
  {
   "cell_type": "code",
   "execution_count": 370,
   "id": "3c7608b1",
   "metadata": {
    "ExecuteTime": {
     "end_time": "2022-12-16T01:41:15.063319Z",
     "start_time": "2022-12-16T01:41:15.059711Z"
    }
   },
   "outputs": [],
   "source": [
    "acc_results.to_csv(\"KNN_50 accuracy.csv\")"
   ]
  },
  {
   "cell_type": "code",
   "execution_count": 364,
   "id": "c9af2b6e",
   "metadata": {
    "ExecuteTime": {
     "end_time": "2022-12-16T01:37:10.770484Z",
     "start_time": "2022-12-16T01:37:10.764597Z"
    }
   },
   "outputs": [],
   "source": [
    "from sklearn.neighbors import KNeighborsClassifier\n",
    "global loss\n",
    "global accur\n",
    "global c\n",
    "c = 0.00000033\n",
    "loss=[]\n",
    "accur=[]\n",
    "lg_accuracy=dict()\n",
    "def KNN (window, x_train, x_test, y_train, y_test) :\n",
    "    neigh = KNeighborsClassifier(n_neighbors=50)\n",
    "    y_pred = neigh.fit(x_train, y_train).predict(x_test)\n",
    "    accur.append((x_test.shape[0]-(y_test != y_pred).sum())/x_test.shape[0])\n",
    "    \n",
    "    lg_accuracy[window] = neigh.score(x_test,y_test)\n",
    "    print(str(window) + \"Number of mislabeled points out of a total %d points : %d\"\n",
    "          % (x_test.shape[0], (y_test != y_pred).sum()))\n",
    "    print(\"Accuracy: \"+ str(accur))\n",
    "    loss.append(objFunction_4((x_test.shape[0]-(y_test != y_pred).sum())/x_test.shape[0],c,dist_win,time_win))\n",
    "    print('Loss '+ str(objFunction_4((x_test.shape[0]-(y_test != y_pred).sum())/x_test.shape[0],c,dist_win,time_win)))"
   ]
  },
  {
   "cell_type": "code",
   "execution_count": 365,
   "id": "74a5890e",
   "metadata": {
    "ExecuteTime": {
     "end_time": "2022-12-16T01:37:51.846046Z",
     "start_time": "2022-12-16T01:37:10.921089Z"
    },
    "scrolled": true
   },
   "outputs": [
    {
     "name": "stdout",
     "output_type": "stream",
     "text": [
      "(800, 60)Number of mislabeled points out of a total 20000 points : 8542\n",
      "Accuracy: [0.5729]\n",
      "Loss 0.285668\n",
      "(800, 30)Number of mislabeled points out of a total 20000 points : 9827\n",
      "Accuracy: [0.5729, 0.50865]\n",
      "Loss 0.278442\n",
      "(800, 20)Number of mislabeled points out of a total 20000 points : 10659\n",
      "Accuracy: [0.5729, 0.50865, 0.46705]\n",
      "Loss 0.247402\n",
      "(800, 10)Number of mislabeled points out of a total 20000 points : 12293\n",
      "Accuracy: [0.5729, 0.50865, 0.46705, 0.38535]\n",
      "Loss 0.17203800000000002\n",
      "(400, 60)Number of mislabeled points out of a total 20000 points : 11729\n",
      "Accuracy: [0.5729, 0.50865, 0.46705, 0.38535, 0.41355]\n",
      "Loss 0.28471799999999997\n",
      "(400, 30)Number of mislabeled points out of a total 20000 points : 12953\n",
      "Accuracy: [0.5729, 0.50865, 0.46705, 0.38535, 0.41355, 0.35235]\n",
      "Loss 0.280542\n",
      "(400, 20)Number of mislabeled points out of a total 20000 points : 13616\n",
      "Accuracy: [0.5729, 0.50865, 0.46705, 0.38535, 0.41355, 0.35235, 0.3192]\n",
      "Loss 0.25795199999999996\n",
      "(400, 10)Number of mislabeled points out of a total 20000 points : 14690\n",
      "Accuracy: [0.5729, 0.50865, 0.46705, 0.38535, 0.41355, 0.35235, 0.3192, 0.2655]\n",
      "Loss 0.210588\n",
      "(200, 60)Number of mislabeled points out of a total 20000 points : 13933\n",
      "Accuracy: [0.5729, 0.50865, 0.46705, 0.38535, 0.41355, 0.35235, 0.3192, 0.2655, 0.30335]\n",
      "Loss 0.214118\n",
      "(200, 30)Number of mislabeled points out of a total 20000 points : 14648\n",
      "Accuracy: [0.5729, 0.50865, 0.46705, 0.38535, 0.41355, 0.35235, 0.3192, 0.2655, 0.30335, 0.2676]\n",
      "Loss 0.235392\n",
      "(200, 20)Number of mislabeled points out of a total 20000 points : 14952\n",
      "Accuracy: [0.5729, 0.50865, 0.46705, 0.38535, 0.41355, 0.35235, 0.3192, 0.2655, 0.30335, 0.2676, 0.2524]\n",
      "Loss 0.230752\n",
      "(200, 10)Number of mislabeled points out of a total 20000 points : 15312\n",
      "Accuracy: [0.5729, 0.50865, 0.46705, 0.38535, 0.41355, 0.35235, 0.3192, 0.2655, 0.30335, 0.2676, 0.2524, 0.2344]\n",
      "Loss 0.219088\n",
      "(100, 60)Number of mislabeled points out of a total 20000 points : 14654\n",
      "Accuracy: [0.5729, 0.50865, 0.46705, 0.38535, 0.41355, 0.35235, 0.3192, 0.2655, 0.30335, 0.2676, 0.2524, 0.2344, 0.2673]\n",
      "Loss 0.18796799999999997\n",
      "(100, 30)Number of mislabeled points out of a total 20000 points : 14896\n",
      "Accuracy: [0.5729, 0.50865, 0.46705, 0.38535, 0.41355, 0.35235, 0.3192, 0.2655, 0.30335, 0.2676, 0.2524, 0.2344, 0.2673, 0.2552]\n",
      "Loss 0.232892\n",
      "(100, 20)Number of mislabeled points out of a total 20000 points : 15059\n",
      "Accuracy: [0.5729, 0.50865, 0.46705, 0.38535, 0.41355, 0.35235, 0.3192, 0.2655, 0.30335, 0.2676, 0.2524, 0.2344, 0.2673, 0.2552, 0.24705]\n",
      "Loss 0.23530199999999998\n",
      "(100, 10)Number of mislabeled points out of a total 20000 points : 15316\n",
      "Accuracy: [0.5729, 0.50865, 0.46705, 0.38535, 0.41355, 0.35235, 0.3192, 0.2655, 0.30335, 0.2676, 0.2524, 0.2344, 0.2673, 0.2552, 0.24705, 0.2342]\n",
      "Loss 0.228788\n",
      "(50, 60)Number of mislabeled points out of a total 20000 points : 14627\n",
      "Accuracy: [0.5729, 0.50865, 0.46705, 0.38535, 0.41355, 0.35235, 0.3192, 0.2655, 0.30335, 0.2676, 0.2524, 0.2344, 0.2673, 0.2552, 0.24705, 0.2342, 0.26865]\n",
      "Loss 0.191793\n",
      "(50, 30)Number of mislabeled points out of a total 20000 points : 14915\n",
      "Accuracy: [0.5729, 0.50865, 0.46705, 0.38535, 0.41355, 0.35235, 0.3192, 0.2655, 0.30335, 0.2676, 0.2524, 0.2344, 0.2673, 0.2552, 0.24705, 0.2342, 0.26865, 0.25425]\n",
      "Loss 0.234417\n",
      "(50, 20)Number of mislabeled points out of a total 20000 points : 15075\n",
      "Accuracy: [0.5729, 0.50865, 0.46705, 0.38535, 0.41355, 0.35235, 0.3192, 0.2655, 0.30335, 0.2676, 0.2524, 0.2344, 0.2673, 0.2552, 0.24705, 0.2342, 0.26865, 0.25425, 0.24625]\n",
      "Loss 0.236977\n",
      "(50, 10)Number of mislabeled points out of a total 20000 points : 15336\n",
      "Accuracy: [0.5729, 0.50865, 0.46705, 0.38535, 0.41355, 0.35235, 0.3192, 0.2655, 0.30335, 0.2676, 0.2524, 0.2344, 0.2673, 0.2552, 0.24705, 0.2342, 0.26865, 0.25425, 0.24625, 0.2332]\n",
      "Loss 0.230263\n"
     ]
    }
   ],
   "source": [
    "for dist_win in dist_params:\n",
    "    for time_win in time_params:\n",
    "        window = (dist_win, time_win)\n",
    "        x_train\n",
    "        x_test\n",
    "        y_train = Ys_train[window]\n",
    "        y_test = Ys_test[window]\n",
    "        KNN(window,x_train, x_test, y_train, y_test)\n",
    "        # Train window models"
   ]
  },
  {
   "cell_type": "code",
   "execution_count": 366,
   "id": "dcf1dd35",
   "metadata": {
    "ExecuteTime": {
     "end_time": "2022-12-16T01:37:51.850300Z",
     "start_time": "2022-12-16T01:37:51.848033Z"
    }
   },
   "outputs": [],
   "source": [
    "norm_acc=[]\n",
    "norm_loss=[]\n",
    "norm_loss = [float(i)/sum(loss) for i in loss]\n",
    "norm_acc=[float(i)/sum(accur) for i in accur]"
   ]
  },
  {
   "cell_type": "code",
   "execution_count": 367,
   "id": "8f7078e5",
   "metadata": {
    "ExecuteTime": {
     "end_time": "2022-12-16T01:37:52.072163Z",
     "start_time": "2022-12-16T01:37:51.853700Z"
    }
   },
   "outputs": [
    {
     "data": {
      "image/png": "[encoded data removed]",
      "text/plain": [
       "<Figure size 1440x576 with 1 Axes>"
      ]
     },
     "metadata": {
      "needs_background": "light"
     },
     "output_type": "display_data"
    }
   ],
   "source": [
    "#using the fourth objective function\n",
    "plt.figure(figsize=(20,8))\n",
    "plt.plot(combination,norm_loss, label='Loss graph')\n",
    "plt.plot(combination,norm_acc, label='Accuracy graph')\n",
    "\n",
    "plt.title('Loss v. Accuracy')\n",
    "plt.legend()\n",
    "plt.show()\n",
    "plt.close()"
   ]
  },
  {
   "cell_type": "code",
   "execution_count": 368,
   "id": "4481935b",
   "metadata": {
    "ExecuteTime": {
     "end_time": "2022-12-16T01:37:52.303354Z",
     "start_time": "2022-12-16T01:37:52.074040Z"
    }
   },
   "outputs": [
    {
     "data": {
      "text/plain": [
       "<matplotlib.legend.Legend at 0x7fd396ba8910>"
      ]
     },
     "execution_count": 368,
     "metadata": {},
     "output_type": "execute_result"
    },
    {
     "data": {
      "image/png": "[encoded data removed]",
      "text/plain": [
       "<Figure size 1440x576 with 1 Axes>"
      ]
     },
     "metadata": {
      "needs_background": "light"
     },
     "output_type": "display_data"
    }
   ],
   "source": [
    "plt.figure(figsize=(20,8))\n",
    "plt.bar(combination, norm_loss, color ='maroon',label='gain',\n",
    "        width = 0.4)\n",
    "plt.legend()"
   ]
  },
  {
   "cell_type": "code",
   "execution_count": 369,
   "id": "e13b16b8",
   "metadata": {
    "ExecuteTime": {
     "end_time": "2022-12-16T01:37:52.325770Z",
     "start_time": "2022-12-16T01:37:52.304978Z"
    }
   },
   "outputs": [
    {
     "data": {
      "text/html": [
       "<div>\n",
       "<style scoped>\n",
       "    .dataframe tbody tr th:only-of-type {\n",
       "        vertical-align: middle;\n",
       "    }\n",
       "\n",
       "    .dataframe tbody tr th {\n",
       "        vertical-align: top;\n",
       "    }\n",
       "\n",
       "    .dataframe thead th {\n",
       "        text-align: right;\n",
       "    }\n",
       "</style>\n",
       "<table border=\"1\" class=\"dataframe\">\n",
       "  <thead>\n",
       "    <tr style=\"text-align: right;\">\n",
       "      <th></th>\n",
       "      <th>Window</th>\n",
       "      <th>Accuracy</th>\n",
       "      <th>Percent improvement</th>\n",
       "      <th>Objective gain</th>\n",
       "    </tr>\n",
       "  </thead>\n",
       "  <tbody>\n",
       "    <tr>\n",
       "      <th>0</th>\n",
       "      <td>(800, 60)</td>\n",
       "      <td>0.57</td>\n",
       "      <td>121.58</td>\n",
       "      <td>0.57</td>\n",
       "    </tr>\n",
       "    <tr>\n",
       "      <th>1</th>\n",
       "      <td>(800, 30)</td>\n",
       "      <td>0.51</td>\n",
       "      <td>96.73</td>\n",
       "      <td>0.51</td>\n",
       "    </tr>\n",
       "    <tr>\n",
       "      <th>2</th>\n",
       "      <td>(800, 20)</td>\n",
       "      <td>0.47</td>\n",
       "      <td>80.64</td>\n",
       "      <td>0.47</td>\n",
       "    </tr>\n",
       "    <tr>\n",
       "      <th>3</th>\n",
       "      <td>(800, 10)</td>\n",
       "      <td>0.39</td>\n",
       "      <td>49.04</td>\n",
       "      <td>0.38</td>\n",
       "    </tr>\n",
       "    <tr>\n",
       "      <th>4</th>\n",
       "      <td>(400, 60)</td>\n",
       "      <td>0.41</td>\n",
       "      <td>59.95</td>\n",
       "      <td>0.41</td>\n",
       "    </tr>\n",
       "    <tr>\n",
       "      <th>5</th>\n",
       "      <td>(400, 30)</td>\n",
       "      <td>0.35</td>\n",
       "      <td>36.28</td>\n",
       "      <td>0.35</td>\n",
       "    </tr>\n",
       "    <tr>\n",
       "      <th>6</th>\n",
       "      <td>(400, 20)</td>\n",
       "      <td>0.32</td>\n",
       "      <td>23.46</td>\n",
       "      <td>0.32</td>\n",
       "    </tr>\n",
       "    <tr>\n",
       "      <th>7</th>\n",
       "      <td>(400, 10)</td>\n",
       "      <td>0.27</td>\n",
       "      <td>2.69</td>\n",
       "      <td>0.26</td>\n",
       "    </tr>\n",
       "    <tr>\n",
       "      <th>8</th>\n",
       "      <td>(200, 60)</td>\n",
       "      <td>0.30</td>\n",
       "      <td>17.33</td>\n",
       "      <td>0.30</td>\n",
       "    </tr>\n",
       "    <tr>\n",
       "      <th>9</th>\n",
       "      <td>(200, 30)</td>\n",
       "      <td>0.27</td>\n",
       "      <td>3.50</td>\n",
       "      <td>0.27</td>\n",
       "    </tr>\n",
       "    <tr>\n",
       "      <th>10</th>\n",
       "      <td>(200, 20)</td>\n",
       "      <td>0.25</td>\n",
       "      <td>-2.38</td>\n",
       "      <td>0.25</td>\n",
       "    </tr>\n",
       "    <tr>\n",
       "      <th>11</th>\n",
       "      <td>(200, 10)</td>\n",
       "      <td>0.23</td>\n",
       "      <td>-9.34</td>\n",
       "      <td>0.23</td>\n",
       "    </tr>\n",
       "    <tr>\n",
       "      <th>12</th>\n",
       "      <td>(100, 60)</td>\n",
       "      <td>0.27</td>\n",
       "      <td>3.38</td>\n",
       "      <td>0.27</td>\n",
       "    </tr>\n",
       "    <tr>\n",
       "      <th>13</th>\n",
       "      <td>(100, 30)</td>\n",
       "      <td>0.26</td>\n",
       "      <td>-1.30</td>\n",
       "      <td>0.25</td>\n",
       "    </tr>\n",
       "    <tr>\n",
       "      <th>14</th>\n",
       "      <td>(100, 20)</td>\n",
       "      <td>0.25</td>\n",
       "      <td>-4.45</td>\n",
       "      <td>0.25</td>\n",
       "    </tr>\n",
       "    <tr>\n",
       "      <th>15</th>\n",
       "      <td>(100, 10)</td>\n",
       "      <td>0.23</td>\n",
       "      <td>-9.42</td>\n",
       "      <td>0.23</td>\n",
       "    </tr>\n",
       "    <tr>\n",
       "      <th>16</th>\n",
       "      <td>(50, 60)</td>\n",
       "      <td>0.27</td>\n",
       "      <td>3.91</td>\n",
       "      <td>0.27</td>\n",
       "    </tr>\n",
       "    <tr>\n",
       "      <th>17</th>\n",
       "      <td>(50, 30)</td>\n",
       "      <td>0.25</td>\n",
       "      <td>-1.66</td>\n",
       "      <td>0.25</td>\n",
       "    </tr>\n",
       "    <tr>\n",
       "      <th>18</th>\n",
       "      <td>(50, 20)</td>\n",
       "      <td>0.25</td>\n",
       "      <td>-4.76</td>\n",
       "      <td>0.25</td>\n",
       "    </tr>\n",
       "    <tr>\n",
       "      <th>19</th>\n",
       "      <td>(50, 10)</td>\n",
       "      <td>0.23</td>\n",
       "      <td>-9.80</td>\n",
       "      <td>0.23</td>\n",
       "    </tr>\n",
       "  </tbody>\n",
       "</table>\n",
       "</div>"
      ],
      "text/plain": [
       "       Window  Accuracy  Percent improvement  Objective gain\n",
       "0   (800, 60)      0.57               121.58            0.57\n",
       "1   (800, 30)      0.51                96.73            0.51\n",
       "2   (800, 20)      0.47                80.64            0.47\n",
       "3   (800, 10)      0.39                49.04            0.38\n",
       "4   (400, 60)      0.41                59.95            0.41\n",
       "5   (400, 30)      0.35                36.28            0.35\n",
       "6   (400, 20)      0.32                23.46            0.32\n",
       "7   (400, 10)      0.27                 2.69            0.26\n",
       "8   (200, 60)      0.30                17.33            0.30\n",
       "9   (200, 30)      0.27                 3.50            0.27\n",
       "10  (200, 20)      0.25                -2.38            0.25\n",
       "11  (200, 10)      0.23                -9.34            0.23\n",
       "12  (100, 60)      0.27                 3.38            0.27\n",
       "13  (100, 30)      0.26                -1.30            0.25\n",
       "14  (100, 20)      0.25                -4.45            0.25\n",
       "15  (100, 10)      0.23                -9.42            0.23\n",
       "16   (50, 60)      0.27                 3.91            0.27\n",
       "17   (50, 30)      0.25                -1.66            0.25\n",
       "18   (50, 20)      0.25                -4.76            0.25\n",
       "19   (50, 10)      0.23                -9.80            0.23"
      ]
     },
     "execution_count": 369,
     "metadata": {},
     "output_type": "execute_result"
    }
   ],
   "source": [
    "acc_results = pd.DataFrame(columns=['Window'])\n",
    "acc_results['Window'] = windows\n",
    "acc = []\n",
    "for win in windows:\n",
    "    acc.append(round(lg_accuracy[win], 2))\n",
    "acc_results['Accuracy'] = acc\n",
    "acc = []\n",
    "base_acc = acc_base\n",
    "for win in windows:\n",
    "    win_acc = lg_accuracy[win]\n",
    "    acc.append(round((win_acc - base_acc) / base_acc * 100, 2))\n",
    "acc_results['Percent improvement'] = acc\n",
    "gain = []\n",
    "for win in windows:\n",
    "    gain.append(round(objFunction_3(lg_accuracy[win], c, dist_win, time_win), 2))\n",
    "acc_results['Objective gain'] = gain\n",
    "acc_results"
   ]
  },
  {
   "cell_type": "code",
   "execution_count": null,
   "id": "5d5f2edf",
   "metadata": {},
   "outputs": [],
   "source": [
    "#5,20,50,200"
   ]
  }
 ],
 "metadata": {
  "kernelspec": {
   "display_name": "Python 3",
   "language": "python",
   "name": "python3"
  },
  "language_info": {
   "codemirror_mode": {
    "name": "ipython",
    "version": 3
   },
   "file_extension": ".py",
   "mimetype": "text/x-python",
   "name": "python",
   "nbconvert_exporter": "python",
   "pygments_lexer": "ipython3",
   "version": "3.8.10"
  }
 },
 "nbformat": 4,
 "nbformat_minor": 5
}
